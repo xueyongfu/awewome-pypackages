{
 "cells": [
  {
   "cell_type": "code",
   "execution_count": 2,
   "metadata": {},
   "outputs": [],
   "source": [
    "from __future__ import print_function\n",
    "import torch"
   ]
  },
  {
   "cell_type": "code",
   "execution_count": 4,
   "metadata": {},
   "outputs": [
    {
     "name": "stdout",
     "output_type": "stream",
     "text": "tensor([[2.4501e-09, 7.5553e+28, 5.2839e-11],\n        [1.8888e+31, 4.7414e+16, 3.1434e-12],\n        [8.0775e+17, 1.4583e-19, 4.1486e-08],\n        [1.3556e-19, 1.8567e-01, 1.2043e-32],\n        [1.3563e-19, 1.8888e+31, 4.7414e+16]])\n"
    }
   ],
   "source": [
    "# 创建一个 5x3 矩阵, 但是未初始化:\n",
    "\n",
    "x = torch.empty(5, 3)\n",
    "print(x)"
   ]
  },
  {
   "cell_type": "code",
   "execution_count": 5,
   "metadata": {},
   "outputs": [
    {
     "name": "stdout",
     "output_type": "stream",
     "text": "tensor([[0.8641, 0.8006, 0.8350],\n        [0.3325, 0.8075, 0.1654],\n        [0.1350, 0.9963, 0.4577],\n        [0.8265, 0.4920, 0.2114],\n        [0.0997, 0.5851, 0.2673]])\n"
    }
   ],
   "source": [
    "# 创建一个随机初始化的矩阵:\n",
    "\n",
    "x = torch.rand(5, 3)\n",
    "print(x)"
   ]
  },
  {
   "cell_type": "code",
   "execution_count": 6,
   "metadata": {},
   "outputs": [
    {
     "name": "stdout",
     "output_type": "stream",
     "text": "tensor([[0, 0, 0],\n        [0, 0, 0],\n        [0, 0, 0],\n        [0, 0, 0],\n        [0, 0, 0]])\n"
    }
   ],
   "source": [
    "# 创建一个0填充的矩阵，数据类型为long:\n",
    "\n",
    "x = torch.zeros(5, 3, dtype=torch.long)\n",
    "print(x)"
   ]
  },
  {
   "cell_type": "code",
   "execution_count": 7,
   "metadata": {},
   "outputs": [
    {
     "name": "stdout",
     "output_type": "stream",
     "text": "tensor([5.5000, 3.0000])\n"
    }
   ],
   "source": [
    "# 创建tensor并使用现有数据初始化:\n",
    "\n",
    "x = torch.tensor([5.5, 3])\n",
    "print(x)"
   ]
  },
  {
   "cell_type": "code",
   "execution_count": 8,
   "metadata": {},
   "outputs": [
    {
     "name": "stdout",
     "output_type": "stream",
     "text": "tensor([[1., 1., 1.],\n        [1., 1., 1.],\n        [1., 1., 1.],\n        [1., 1., 1.],\n        [1., 1., 1.]], dtype=torch.float64)\ntensor([[-1.3301,  0.8931, -0.8128],\n        [-0.9447, -0.6907, -1.0198],\n        [-1.1162, -0.3007,  0.6306],\n        [-0.2653, -1.2481, -0.9168],\n        [ 0.8049,  0.8961,  0.5521]])\n"
    }
   ],
   "source": [
    "# 根据现有的张量创建张量。 这些方法将重用输入张量的属性，例如， dtype，除非设置新的值进行覆盖\n",
    "\n",
    "x = x.new_ones(5, 3, dtype=torch.double)      # new_* 方法来创建对象\n",
    "print(x)\n",
    "\n",
    "x = torch.randn_like(x, dtype=torch.float)    # 覆盖 dtype!\n",
    "print(x)                                      #  对象的size 是相同的，只是值和类型发生了变化"
   ]
  },
  {
   "cell_type": "code",
   "execution_count": 9,
   "metadata": {},
   "outputs": [
    {
     "name": "stdout",
     "output_type": "stream",
     "text": "torch.Size([5, 3])\n"
    }
   ],
   "source": [
    "# 获取 size\n",
    "# 译者注：使用size方法与Numpy的shape属性返回的相同，张量也支持shape属性，后面会详细介绍\n",
    "\n",
    "print(x.size())"
   ]
  },
  {
   "cell_type": "code",
   "execution_count": 12,
   "metadata": {},
   "outputs": [
    {
     "name": "stdout",
     "output_type": "stream",
     "text": "tensor([[-1.2366,  1.4168, -0.5394],\n        [-0.9031,  0.1308, -0.6730],\n        [-0.3726, -0.1891,  1.1943],\n        [ 0.4284, -0.3107, -0.1373],\n        [ 1.4343,  0.9180,  1.4233]])\ntensor([[-1.2366,  1.4168, -0.5394],\n        [-0.9031,  0.1308, -0.6730],\n        [-0.3726, -0.1891,  1.1943],\n        [ 0.4284, -0.3107, -0.1373],\n        [ 1.4343,  0.9180,  1.4233]])\ntensor([[-1.2366,  1.4168, -0.5394],\n        [-0.9031,  0.1308, -0.6730],\n        [-0.3726, -0.1891,  1.1943],\n        [ 0.4284, -0.3107, -0.1373],\n        [ 1.4343,  0.9180,  1.4233]])\n"
    }
   ],
   "source": [
    "# 加法1:\n",
    "\n",
    "y = torch.rand(5, 3)\n",
    "print(x + y)\n",
    "\n",
    "\n",
    "# 加法2:\n",
    "print(torch.add(x, y))\n",
    "\n",
    "# 提供输出tensor作为参数\n",
    "result = torch.empty(5, 3)\n",
    "torch.add(x, y, out=result)\n",
    "print(result)"
   ]
  },
  {
   "cell_type": "code",
   "execution_count": 14,
   "metadata": {},
   "outputs": [
    {
     "name": "stdout",
     "output_type": "stream",
     "text": "tensor([2, 2, 2])\ntensor([4, 4, 4])\n"
    }
   ],
   "source": [
    "# 任何以``_``结尾的操作都会用结果替换原变量.\n",
    "# 例如: ``x.copy_(y)``, ``x.t_()``, 都会改变 ``x``\n",
    "\n",
    "m = torch.tensor([1,1,1])\n",
    "n = torch.tensor([2,2,2])\n",
    "\n",
    "m.copy_(n)   #相当于m=n\n",
    "print(m)\n",
    "\n",
    "m.add_(n)   #相当于m=m+n\n",
    "print(m)"
   ]
  },
  {
   "cell_type": "code",
   "execution_count": 15,
   "metadata": {},
   "outputs": [
    {
     "name": "stdout",
     "output_type": "stream",
     "text": "tensor([ 0.8931, -0.6907, -0.3007, -1.2481,  0.8961])\n"
    }
   ],
   "source": [
    "# 你可以使用与NumPy索引方式相同的操作, 来进行对张量的操作\n",
    "# torch张量的切片操作\n",
    "\n",
    "print(x[:, 1])"
   ]
  },
  {
   "cell_type": "code",
   "execution_count": 16,
   "metadata": {},
   "outputs": [
    {
     "name": "stdout",
     "output_type": "stream",
     "text": "torch.Size([4, 4]) torch.Size([16]) torch.Size([2, 8])\n"
    }
   ],
   "source": [
    "# 改变张量的维度:view()\n",
    "\n",
    "x = torch.randn(4, 4)\n",
    "y = x.view(16)\n",
    "z = x.view(-1, 8) \n",
    "print(x.size(), y.size(), z.size())"
   ]
  },
  {
   "cell_type": "code",
   "execution_count": 4,
   "metadata": {},
   "outputs": [
    {
     "name": "stdout",
     "output_type": "stream",
     "text": "tensor([-1.2146])\n-1.2146495580673218\n"
    }
   ],
   "source": [
    "# 如果你有只有一个元素的张量，使用.item()来得到Python数据类型的数值\n",
    "\n",
    "x = torch.randn(1)\n",
    "print(x)\n",
    "print(x.item())"
   ]
  },
  {
   "cell_type": "code",
   "execution_count": 19,
   "metadata": {},
   "outputs": [
    {
     "name": "stdout",
     "output_type": "stream",
     "text": "tensor([1., 1., 1., 1., 1.])\n[1. 1. 1. 1. 1.]\ntensor([2., 2., 2., 2., 2.])\n[2. 2. 2. 2. 2.]\n"
    }
   ],
   "source": [
    "# NumPy 转换\n",
    "# 将一个Torch Tensor转换为NumPy数组是一件轻松的事，反之亦然。Torch Tensor与NumPy数组共享底层内存地址，修改一个会导致另一个的变化。\n",
    "\n",
    "\n",
    "# 将一个Torch Tensor转换为NumPy数组\n",
    "a = torch.ones(5)\n",
    "print(a)\n",
    "b = a.numpy()\n",
    "print(b)\n",
    "\n",
    "# 张量和numpy数据同时变换\n",
    "a.add_(1)\n",
    "print(a)\n",
    "print(b)"
   ]
  },
  {
   "cell_type": "markdown",
   "metadata": {},
   "source": [
    " NumPy Array 转化成 Torch Tensor\n",
    "\n",
    "使用from_numpy自动转化\n",
    "\n"
   ]
  },
  {
   "cell_type": "code",
   "execution_count": 20,
   "metadata": {},
   "outputs": [
    {
     "name": "stdout",
     "output_type": "stream",
     "text": "[2. 2. 2. 2. 2.]\ntensor([2., 2., 2., 2., 2.], dtype=torch.float64)\n"
    }
   ],
   "source": [
    "# NumPy Array 转化成 Torch Tensor, 使用from_numpy自动转化\n",
    "\n",
    "import numpy as np\n",
    "a = np.ones(5)\n",
    "b = torch.from_numpy(a)\n",
    "np.add(a, 1, out=a)\n",
    "print(a)\n",
    "print(b)"
   ]
  },
  {
   "cell_type": "markdown",
   "execution_count": null,
   "metadata": {},
   "outputs": [],
   "source": [
    "所有的 Tensor 类型默认都是基于CPU， CharTensor 类型不支持到 NumPy 的转换."
   ]
  },
  {
   "cell_type": "code",
   "execution_count": 5,
   "metadata": {},
   "outputs": [
    {
     "name": "stdout",
     "output_type": "stream",
     "text": "tensor([-0.2146], device='cuda:0')\ntensor([-0.2146], dtype=torch.float64)\n"
    }
   ],
   "source": [
    "# CUDA 张量\n",
    "# 使用.to 方法 可以将Tensor移动到任何设备中\n",
    "\n",
    "# is_available 函数判断是否有cuda可以使用, `torch.device`用来设置使用的cuda设备\n",
    "if torch.cuda.is_available():\n",
    "    device = torch.device(\"cuda\")          \n",
    "    y = torch.ones_like(x, device=device)  # 1.直接从GPU创建张量\n",
    "    x = x.to(device)                       # 2.或者直接使用``.to(\"cuda\")``将张量移动到cuda中\n",
    "    z = x + y\n",
    "    print(z)\n",
    "    print(z.to(\"cpu\", torch.double))       # ``.to`` 也会对变量的类型做更改"
   ]
  }
 ],
 "metadata": {
  "kernelspec": {
   "display_name": "Pytorch for Deeplearning",
   "language": "python",
   "name": "pytorch"
  },
  "language_info": {
   "codemirror_mode": {
    "name": "ipython",
    "version": 3
   },
   "file_extension": ".py",
   "mimetype": "text/x-python",
   "name": "python",
   "nbconvert_exporter": "python",
   "pygments_lexer": "ipython3",
   "version": "3.6.9"
  }
 },
 "nbformat": 4,
 "nbformat_minor": 1
}