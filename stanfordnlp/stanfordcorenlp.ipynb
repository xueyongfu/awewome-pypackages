{
 "nbformat": 4,
 "nbformat_minor": 2,
 "metadata": {
  "language_info": {
   "name": "python",
   "codemirror_mode": {
    "name": "ipython",
    "version": 3
   },
   "version": "3.6.9"
  },
  "orig_nbformat": 2,
  "file_extension": ".py",
  "mimetype": "text/x-python",
  "name": "python",
  "npconvert_exporter": "python",
  "pygments_lexer": "ipython3",
  "version": 3
 },
 "cells": [
  {
   "cell_type": "code",
   "execution_count": 1,
   "metadata": {},
   "outputs": [],
   "source": [
    "from stanfordcorenlp import StanfordCoreNLP\n",
    "nlp=StanfordCoreNLP('/home/xyf/models/stanfordnlp',lang='zh')"
   ]
  },
  {
   "cell_type": "code",
   "execution_count": 4,
   "metadata": {},
   "outputs": [
    {
     "name": "stdout",
     "output_type": "stream",
     "text": "['清华', '大学', '位于', '北京', '。']\n[('清华', 'NR'), ('大学', 'NN'), ('位于', 'VV'), ('北京', 'NR'), ('。', 'PU')]\n[('清华', 'ORGANIZATION'), ('大学', 'ORGANIZATION'), ('位于', 'O'), ('北京', 'STATE_OR_PROVINCE'), ('。', 'O')]\n(ROOT\n  (IP\n    (NP (NR 清华) (NN 大学))\n    (VP (VV 位于)\n      (NP (NR 北京)))\n    (PU 。)))\n[('ROOT', 0, 3), ('compound:nn', 2, 1), ('nsubj', 3, 2), ('dobj', 3, 4), ('punct', 3, 5)]\n"
    }
   ],
   "source": [
    "# 基本使用方法\n",
    "\n",
    "sentence ='清华大学位于北京。'\n",
    "\n",
    "print(nlp.word_tokenize(sentence))\n",
    "\n",
    "print(nlp.pos_tag(sentence))\n",
    "\n",
    "print(nlp.ner(sentence))\n",
    "\n",
    "print(nlp.parse(sentence))\n",
    "\n",
    "print(nlp.dependency_parse(sentence))\n"
   ]
  },
  {
   "cell_type": "code",
   "execution_count": 2,
   "metadata": {},
   "outputs": [],
   "source": [
    "# 可视化\n",
    "\n",
    "from nltk.tree import  Tree\n",
    "sentence ='近日，一条男子高铁吃泡面被女乘客怒怼的视频引发热议'\n",
    "\n",
    "tree=Tree.fromstring(nlp.parse(sentence))\n",
    "tree.draw()"
   ]
  },
  {
   "cell_type": "code",
   "execution_count": 2,
   "metadata": {},
   "outputs": [
    {
     "name": "stdout",
     "output_type": "stream",
     "text": "[('浦东', 'CITY'), ('新区', 'CITY'), ('上', 'O'), ('南路', 'O'), ('金谊路', 'O'), ('喜', 'O'), ('地', 'O'), ('农贸', 'O'), ('市场', 'O'), ('发生', 'O'), ('了', 'O'), ('火灾', 'CAUSE_OF_DEATH')]\n"
    }
   ],
   "source": [
    "sent = '浦东新区上南路金谊路喜地农贸市场发生了火灾'\n",
    "print(nlp.ner(sent))"
   ]
  },
  {
   "cell_type": "code",
   "execution_count": 2,
   "metadata": {},
   "outputs": [
    {
     "name": "stdout",
     "output_type": "stream",
     "text": "[('近日', 'DATE'), ('，', 'O'), ('一', 'NUMBER'), ('条', 'O'), ('男子', 'FACILITY'), ('高铁', 'FACILITY'), ('吃', 'O'), ('泡面', 'O'), ('被', 'O'), ('女', 'O'), ('乘客', 'O'), ('怒怼', 'O'), ('的', 'O'), ('视频', 'O'), ('引发', 'O'), ('热议', 'O')]\n"
    }
   ],
   "source": [
    "sent = '近日，一条男子高铁吃泡面被女乘客怒怼的视频引发热议'\n",
    "print(nlp.ner(sent))"
   ]
  },
  {
   "cell_type": "code",
   "execution_count": null,
   "metadata": {},
   "outputs": [],
   "source": []
  },
  {
   "cell_type": "code",
   "execution_count": null,
   "metadata": {},
   "outputs": [],
   "source": []
  },
  {
   "cell_type": "code",
   "execution_count": null,
   "metadata": {},
   "outputs": [],
   "source": []
  },
  {
   "cell_type": "code",
   "execution_count": null,
   "metadata": {},
   "outputs": [],
   "source": []
  },
  {
   "cell_type": "code",
   "execution_count": null,
   "metadata": {},
   "outputs": [],
   "source": []
  },
  {
   "cell_type": "code",
   "execution_count": null,
   "metadata": {},
   "outputs": [],
   "source": []
  },
  {
   "cell_type": "code",
   "execution_count": null,
   "metadata": {},
   "outputs": [],
   "source": []
  },
  {
   "cell_type": "code",
   "execution_count": null,
   "metadata": {},
   "outputs": [],
   "source": []
  }
 ]
}