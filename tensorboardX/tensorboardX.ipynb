{
 "nbformat": 4,
 "nbformat_minor": 2,
 "metadata": {
  "language_info": {
   "name": "python",
   "codemirror_mode": {
    "name": "ipython",
    "version": 3
   },
   "version": "3.6.9-final"
  },
  "orig_nbformat": 2,
  "file_extension": ".py",
  "mimetype": "text/x-python",
  "name": "python",
  "npconvert_exporter": "python",
  "pygments_lexer": "ipython3",
  "version": 3,
  "kernelspec": {
   "name": "python36964bitpy36torch12conda69cefb4d206245c4959c1e16372a73c3",
   "display_name": "Python 3.6.9 64-bit ('py36_torch1.2': conda)"
  }
 },
 "cells": [
  {
   "cell_type": "code",
   "execution_count": 8,
   "metadata": {},
   "outputs": [],
   "source": [
    "import torch\n",
    "import torchvision.utils as vutils\n",
    "import numpy as np\n",
    "import torchvision.models as models\n",
    "from torchvision import datasets\n",
    "from tensorboardX import SummaryWriter\n",
    "import datetime\n",
    "\n",
    "resnet18 = models.resnet18(pretrained=False)\n",
    "writer = SummaryWriter(comment='测试')\n",
    "sample_rate = 44100\n",
    "freqs = [262, 294, 330, 349, 392, 440, 440, 440, 440, 440, 440]\n",
    "\n",
    "true_positive_counts = [75, 64, 21, 5, 0]\n",
    "false_positive_counts = [150, 105, 18, 0, 0]\n",
    "true_negative_counts = [0, 45, 132, 150, 150]\n",
    "false_negative_counts = [0, 11, 54, 70, 75]\n",
    "precision = [0.3333333, 0.3786982, 0.5384616, 1.0, 0.0]\n",
    "recall = [1.0, 0.8533334, 0.28, 0.0666667, 0.0]\n",
    ""
   ]
  },
  {
   "cell_type": "code",
   "execution_count": 6,
   "metadata": {},
   "outputs": [],
   "source": [
    "\n",
    "for n_iter in range(100):\n",
    "    s1 = torch.rand(1)  # value to keep\n",
    "    s2 = torch.rand(1)\n",
    "    # data grouping by `slash`\n",
    "    writer.add_scalar('data/scalar_systemtime', s1[0], n_iter)\n",
    "    # data grouping by `slash`\n",
    "    writer.add_scalar('data/scalar_customtime', s1[0], n_iter, walltime=n_iter)\n",
    "    writer.add_scalars('data/scalar_group', {\"xsinx\": n_iter * np.sin(n_iter),\n",
    "                                             \"xcosx\": n_iter * np.cos(n_iter),\n",
    "                                             \"arctanx\": np.arctan(n_iter)}, n_iter)\n",
    "\n",
    "    x = torch.rand(32, 3, 64, 64)  # output from network\n",
    "    if n_iter % 10 == 0:\n",
    "        x = vutils.make_grid(x, normalize=True, scale_each=True)\n",
    "        writer.add_image('Image', x, n_iter)  # Tensor\n",
    "        writer.add_image_with_boxes('imagebox_label', torch.ones(3, 240, 240) * 0.5,\n",
    "             torch.Tensor([[10, 10, 100, 100], [101, 101, 200, 200]]),\n",
    "             n_iter, labels=['abcde' + str(n_iter), 'fgh' + str(n_iter)])\n",
    "        x = torch.zeros(sample_rate * 2)\n",
    "        for i in range(x.size(0)):\n",
    "            # sound amplitude should in [-1, 1]\n",
    "            x[i] = np.cos(freqs[n_iter // 10] * np.pi *\n",
    "                          float(i) / float(sample_rate))\n",
    "        writer.add_audio('myAudio', x, n_iter)\n",
    "        writer.add_text('Text', 'text logged at step:' + str(n_iter), n_iter)\n",
    "        writer.add_text('markdown Text', '''a|b\\n-|-\\nc|d''', n_iter)\n",
    "        for name, param in resnet18.named_parameters():\n",
    "            if 'bn' not in name:\n",
    "                writer.add_histogram(name, param, n_iter)\n",
    "        writer.add_pr_curve('xoxo', np.random.randint(2, size=100), np.random.rand(\n",
    "            100), n_iter)  # needs tensorboard 0.4RC or later\n",
    "        writer.add_pr_curve_raw('prcurve with raw data', true_positive_counts,\n",
    "                                false_positive_counts,\n",
    "                                true_negative_counts,\n",
    "                                false_negative_counts,\n",
    "                                precision,\n",
    "                                recall, n_iter)\n",
    ""
   ]
  },
  {
   "cell_type": "code",
   "execution_count": 4,
   "metadata": {},
   "outputs": [],
   "source": [
    "# export scalar data to JSON for external processing\n",
    "writer.export_scalars_to_json(\"./all_scalars.json\")"
   ]
  },
  {
   "cell_type": "code",
   "execution_count": 5,
   "metadata": {},
   "outputs": [
    {
     "output_type": "stream",
     "name": "stdout",
     "text": "add_video needs package moviepy\nadd_video needs package moviepy\n"
    }
   ],
   "source": [
    "dataset = datasets.MNIST('mnist', train=False, download=True)\n",
    "images = dataset.test_data[:100].float()\n",
    "label = dataset.test_labels[:100]\n",
    "features = images.view(100, 784)\n",
    "writer.add_embedding(features, metadata=label, label_img=images.unsqueeze(1))\n",
    "writer.add_embedding(features, global_step=1, tag='noMetadata')\n",
    "dataset = datasets.MNIST('mnist', train=True, download=True)\n",
    "images_train = dataset.train_data[:100].float()\n",
    "labels_train = dataset.train_labels[:100]\n",
    "features_train = images_train.view(100, 784)\n",
    "\n",
    "all_features = torch.cat((features, features_train))\n",
    "all_labels = torch.cat((label, labels_train))\n",
    "all_images = torch.cat((images, images_train))\n",
    "dataset_label = ['test'] * 100 + ['train'] * 100\n",
    "all_labels = list(zip(all_labels, dataset_label))\n",
    "\n",
    "writer.add_embedding(all_features, metadata=all_labels, label_img=all_images.unsqueeze(1),\n",
    "                     metadata_header=['digit', 'dataset'], global_step=2)\n",
    "\n",
    "# VIDEO\n",
    "vid_images = dataset.train_data[:16 * 48]\n",
    "vid = vid_images.view(16, 48, 1, 28, 28)  # BxTxCxHxW\n",
    "\n",
    "writer.add_video('video', vid_tensor=vid)\n",
    "writer.add_video('video_1_fps', vid_tensor=vid, fps=1)\n",
    "\n",
    "writer.close()"
   ]
  },
  {
   "cell_type": "code",
   "execution_count": null,
   "metadata": {},
   "outputs": [],
   "source": []
  },
  {
   "cell_type": "code",
   "execution_count": null,
   "metadata": {},
   "outputs": [],
   "source": []
  },
  {
   "cell_type": "code",
   "execution_count": null,
   "metadata": {},
   "outputs": [],
   "source": []
  },
  {
   "cell_type": "code",
   "execution_count": null,
   "metadata": {},
   "outputs": [],
   "source": []
  }
 ]
}