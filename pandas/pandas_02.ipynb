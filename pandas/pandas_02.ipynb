{
 "nbformat": 4,
 "nbformat_minor": 2,
 "metadata": {
  "language_info": {
   "name": "python",
   "codemirror_mode": {
    "name": "ipython",
    "version": 3
   },
   "version": "3.6.9"
  },
  "orig_nbformat": 2,
  "file_extension": ".py",
  "mimetype": "text/x-python",
  "name": "python",
  "npconvert_exporter": "python",
  "pygments_lexer": "ipython3",
  "version": 3
 },
 "cells": [
  {
   "cell_type": "markdown",
   "execution_count": null,
   "metadata": {},
   "outputs": [],
   "source": [
    "## 分组(groupby)\n",
    "\n",
    "分组即是根据某列取值将数据分组"
   ]
  },
  {
   "cell_type": "code",
   "execution_count": 9,
   "metadata": {},
   "outputs": [
    {
     "data": {
      "text/html": "<div>\n<style scoped>\n    .dataframe tbody tr th:only-of-type {\n        vertical-align: middle;\n    }\n\n    .dataframe tbody tr th {\n        vertical-align: top;\n    }\n\n    .dataframe thead th {\n        text-align: right;\n    }\n</style>\n<table border=\"1\" class=\"dataframe\">\n  <thead>\n    <tr style=\"text-align: right;\">\n      <th></th>\n      <th>symbol</th>\n      <th>tdate</th>\n      <th>open</th>\n      <th>close</th>\n    </tr>\n  </thead>\n  <tbody>\n    <tr>\n      <th>0</th>\n      <td>001</td>\n      <td>201901</td>\n      <td>23</td>\n      <td>87</td>\n    </tr>\n    <tr>\n      <th>1</th>\n      <td>001</td>\n      <td>201902</td>\n      <td>35</td>\n      <td>86</td>\n    </tr>\n    <tr>\n      <th>2</th>\n      <td>002</td>\n      <td>201901</td>\n      <td>23</td>\n      <td>53</td>\n    </tr>\n    <tr>\n      <th>3</th>\n      <td>002</td>\n      <td>201902</td>\n      <td>27</td>\n      <td>62</td>\n    </tr>\n    <tr>\n      <th>4</th>\n      <td>003</td>\n      <td>201901</td>\n      <td>28</td>\n      <td>98</td>\n    </tr>\n  </tbody>\n</table>\n</div>",
      "text/plain": "  symbol   tdate  open  close\n0    001  201901    23     87\n1    001  201902    35     86\n2    002  201901    23     53\n3    002  201902    27     62\n4    003  201901    28     98"
     },
     "execution_count": 9,
     "metadata": {},
     "output_type": "execute_result"
    }
   ],
   "source": [
    "import numpy as np\n",
    "import pandas as pd\n",
    "from pandas import DataFrame,Series\n",
    "\n",
    "\n",
    "df1=DataFrame({'symbol':['001','001','002','002','003'],'tdate':['201901','201902','201901','201902','201901'],\n",
    "              'open':np.random.randint(0,50,5),'close':np.random.randint(50,100,5)})\n",
    "df1"
   ]
  },
  {
   "cell_type": "code",
   "execution_count": 12,
   "metadata": {},
   "outputs": [
    {
     "name": "stdout",
     "output_type": "stream",
     "text": "001\n  symbol   tdate  open  close\n0    001  201901    23     87\n1    001  201902    35     86\n******************************\n002\n  symbol   tdate  open  close\n2    002  201901    23     53\n3    002  201902    27     62\n******************************\n003\n  symbol   tdate  open  close\n4    003  201901    28     98\n******************************\n"
    }
   ],
   "source": [
    "#获取分组后,每组的组名和数据\n",
    "\n",
    "grp1=df1.groupby('symbol')\n",
    "\n",
    "for name,group in grp1:\n",
    "    print(name)\n",
    "    print(group)\n",
    "    print('*'*30)"
   ]
  },
  {
   "cell_type": "code",
   "execution_count": 11,
   "metadata": {},
   "outputs": [
    {
     "name": "stdout",
     "output_type": "stream",
     "text": "('001', '201901')\n  symbol   tdate  open  close\n0    001  201901    23     87\n******************************\n('001', '201902')\n  symbol   tdate  open  close\n1    001  201902    35     86\n******************************\n('002', '201901')\n  symbol   tdate  open  close\n2    002  201901    23     53\n******************************\n('002', '201902')\n  symbol   tdate  open  close\n3    002  201902    27     62\n******************************\n('003', '201901')\n  symbol   tdate  open  close\n4    003  201901    28     98\n******************************\n"
    }
   ],
   "source": [
    "#根据两列数据将数据分组\n",
    "grp2=df1.groupby(['symbol','tdate'])\n",
    "\n",
    "for name,group in grp2:\n",
    "    print(name)\n",
    "    print(group)\n",
    "    print('*'*30)"
   ]
  },
  {
   "cell_type": "code",
   "execution_count": 16,
   "metadata": {},
   "outputs": [
    {
     "name": "stdout",
     "output_type": "stream",
     "text": "symbol   tdate  open  close\n0    001  201901    23     87\n1    001  201902    35     86\n******************************\n  symbol   tdate  open  close\n0    001  201901    23     87\n"
    }
   ],
   "source": [
    "#通过组名访问 组名对应的数据\n",
    "\n",
    "print(grp1.get_group('001'))\n",
    "print('*'*30)\n",
    "print(grp2.get_group(('001','201901')))"
   ]
  },
  {
   "cell_type": "code",
   "execution_count": 17,
   "metadata": {},
   "outputs": [
    {
     "name": "stdout",
     "output_type": "stream",
     "text": "symbol\n001    29\n002    25\n003    28\nName: open, dtype: int64\n\n\nsymbol\n001    29\n002    25\n003    28\nName: open, dtype: int64\n\n\n        open\nsymbol      \n001       29\n002       25\n003       28\n"
    }
   ],
   "source": [
    "#计算分组后,每组中指定列的均值 三种等价写法\n",
    "\n",
    "print(grp1.open.mean())\n",
    "print('\\n')\n",
    "print(grp1.open.agg('mean')) #这里函数mean要加引号 如果是自定义函数不需要\n",
    "print('\\n')\n",
    "print(grp1.agg({'open':'mean'})) #这里指定了列名 返回DataFrame而非Series"
   ]
  },
  {
   "cell_type": "code",
   "execution_count": 19,
   "metadata": {},
   "outputs": [
    {
     "name": "stdout",
     "output_type": "stream",
     "text": "symbol\n001    12\n002     4\n003     0\nName: open, dtype: int64\n\n\nsymbol\n001    12\n002     4\n003     0\nName: open, dtype: int64\n"
    }
   ],
   "source": [
    "#计算指定列的指定聚合方法\n",
    "\n",
    "def my_func(x):\n",
    "    return max(x)-min(x)\n",
    "\n",
    "print(grp1.open.agg(my_func))\n",
    "print('\\n')\n",
    "print(grp1.open.agg(lambda x:max(x)-min(x))) #用匿名函数"
   ]
  },
  {
   "cell_type": "code",
   "execution_count": 22,
   "metadata": {},
   "outputs": [
    {
     "data": {
      "text/plain": "0    123\n1    135\n2    123\n3    127\n4    128\nName: open, dtype: int64"
     },
     "execution_count": 22,
     "metadata": {},
     "output_type": "execute_result"
    }
   ],
   "source": [
    "#对指定列进行计算处理\n",
    "grp1.open.apply(lambda x:x+100)"
   ]
  },
  {
   "cell_type": "markdown",
   "execution_count": null,
   "metadata": {},
   "outputs": [],
   "source": [
    "## 表连接"
   ]
  },
  {
   "cell_type": "code",
   "execution_count": null,
   "metadata": {},
   "outputs": [],
   "source": [
    "# merge()函数\n",
    "\n",
    "# 1.默认情况下，merge函数实现的是两个表之间的内连接，即返回两张表中共同部分的数据。\n",
    "# 2.可以通过how参数设置连接的方式，inner或空为内连接，left为左连接；right为右连接；outer为外连接。\n",
    "# 3.内连接至显示有共同索引的，outer是全部显示\n",
    "\n",
    "# on=用来指定连接轴,当两张表中的连接轴列名不同时,通过left_on, right_on进行连接\n",
    "pd.merge(student, score, on='name', how=right)\n",
    "# pd.merge(student, score, left_on='name',right_on='名字' how=right)\n",
    "pd.merge(student, score, left_on='key', right_index=True)\n",
    "\n",
    "# suffixes=(‘_x’,’_y’) 指的是当左右对象中存在除连接键外的同名列时，结果集中的区分方式，可以各加一个小尾巴。\n",
    "pd.merge(left, right, on='key1', suffixes=('_left', '_right'))"
   ]
  },
  {
   "cell_type": "code",
   "execution_count": null,
   "metadata": {},
   "outputs": [],
   "source": [
    "# 表连接 join函数\n",
    "\n",
    "# join默认是以索引连接，内连接\n",
    "\n",
    "# 设置外连接\n",
    "left2.join(right2, how='outer')\n",
    "\n",
    "# 指定连接键\n",
    "left1.join(right1, on='key')\n",
    "\n",
    "# 只要right2, another中的索引有一个可以与left的索引匹配，就可以建立连接\n",
    "left2.join([right2, another])"
   ]
  },
  {
   "cell_type": "markdown",
   "execution_count": null,
   "metadata": {},
   "outputs": [],
   "source": [
    "## 统计分析函数  "
   ]
  },
  {
   "cell_type": "code",
   "execution_count": null,
   "metadata": {},
   "outputs": [],
   "source": [
    "# 一般统计特征函数\n",
    "d1.count() #非空元素计算\n",
    "d1.min() #最小值\n",
    "d1.max() #最大值\n",
    "d1.idxmin() #最小值的位置\n",
    "d1.idxmax() #最大值的位置\n",
    "d1.quantile(0.1) #10%分位数\n",
    "d1.sum() #求和\n",
    "d1.mean() #均值\n",
    "d1.median() #中位数\n",
    "d1.mode() #众数\n",
    "d1.var() #方差\n",
    "d1.std() #标准差\n",
    "d1.mad() #平均绝对偏差\n",
    "d1.skew() #偏度\n",
    "d1.kurt() #峰度\n",
    "d1.describe() #一次性输出多个描述性统计指标\n",
    "\n",
    "# 关于相关系数的计算可以调用pearson方法、kendell方法、spearman方法，默认使用pearson方法。计算的是任意两列的相关系数。\n",
    "df.corr()\n",
    "\n",
    "# 如果只想关注某一个变量与其余变量的相关系数的话，可以使用corrwith,如下方只关心x1与其余变量的相关系数:\n",
    "df.corrwith(df['x1'])\n",
    "\n",
    "# 数值型变量间的协方差矩阵\n",
    "df.cov()\n",
    "\n",
    "# 累计统计特征函数\n",
    "# 使用格式\n",
    "pd.rolling_mean(D, k)  #意思是每k个数计算一次均值。"
   ]
  },
  {
   "cell_type": "markdown",
   "execution_count": null,
   "metadata": {},
   "outputs": [],
   "source": [
    "## 函数使用:apply, agg,transform"
   ]
  },
  {
   "cell_type": "code",
   "execution_count": null,
   "metadata": {},
   "outputs": [],
   "source": [
    "# agg()\n",
    "\n",
    "# 1.agg()和apply()区别\n",
    "# agg函数内调用的函数只能对分组进行聚合使用，比如mean,sum。apply的应用更广泛，apply函数可以说是它的泛化，比如你可以用apply实现组内排序，但是#\n",
    "# agg函数并不能。\n",
    " \n",
    "# 2.agg()使用的多种形式\n",
    "grouped_pct.agg(['mean', 'std', peak_to_peak])\n",
    " \n",
    "#给计算结果一个别名\n",
    "grouped_pct.agg([('foo', 'mean'), ('bar', np.std)])  \n",
    " \n",
    "#列表形式\n",
    "functions = ['count', 'mean', 'max']\n",
    "result = grouped['tip_pct', 'total_bill'].agg(functions)\n",
    " \n",
    "#元组形式\n",
    "ftuples = [('Durchschnitt', 'mean'), ('Abweichung', np.var)]\n",
    "grouped['tip_pct', 'total_bill'].agg(ftuples)\n",
    " \n",
    "#字典形式\n",
    "grouped.agg({'tip' : np.max, 'size' : 'sum'})\n",
    " \n",
    "grouped.agg({'tip_pct' : ['min', 'max', 'mean',  'std'], 'size' : 'sum'})  #混合形式"
   ]
  },
  {
   "cell_type": "code",
   "execution_count": null,
   "metadata": {},
   "outputs": [],
   "source": [
    "# apply()\n",
    "\n",
    "# apply()作用与数据的每一列，或者每一行\n",
    "\n",
    "def stats(x):\n",
    "    return pd.Series([x.count(),x.min(),x.idxmin()],index = ['Count','Min','Whicn_Min'])\n",
    "#将df数据框的每一列应用status函数\n",
    "df.apply(stats)"
   ]
  },
  {
   "cell_type": "code",
   "execution_count": null,
   "metadata": {},
   "outputs": [],
   "source": [
    "# transform()\n",
    "\n",
    "# 一般函数性质\n",
    "df.transform(lambda x: (x - x.mean()) / x.std())\n",
    "\n",
    "# 特别函数性质\n",
    "# 在groupby之后使用aggregate，transform则不对数据进行聚合，它会在对应行的位置生成聚合函数值。"
   ]
  },
  {
   "cell_type": "code",
   "execution_count": null,
   "metadata": {},
   "outputs": [],
   "source": []
  },
  {
   "cell_type": "code",
   "execution_count": null,
   "metadata": {},
   "outputs": [],
   "source": []
  },
  {
   "cell_type": "code",
   "execution_count": null,
   "metadata": {},
   "outputs": [],
   "source": []
  },
  {
   "cell_type": "code",
   "execution_count": null,
   "metadata": {},
   "outputs": [],
   "source": []
  },
  {
   "cell_type": "code",
   "execution_count": null,
   "metadata": {},
   "outputs": [],
   "source": []
  },
  {
   "cell_type": "code",
   "execution_count": null,
   "metadata": {},
   "outputs": [],
   "source": []
  }
 ]
}