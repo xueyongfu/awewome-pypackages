{
 "nbformat": 4,
 "nbformat_minor": 2,
 "metadata": {
  "language_info": {
   "name": "python",
   "codemirror_mode": {
    "name": "ipython",
    "version": 3
   },
   "version": "3.6.9-final"
  },
  "orig_nbformat": 2,
  "file_extension": ".py",
  "mimetype": "text/x-python",
  "name": "python",
  "npconvert_exporter": "python",
  "pygments_lexer": "ipython3",
  "version": 3,
  "kernelspec": {
   "name": "python36964bitpython36conda887ba476e9aa484bad06fe49784f25a0",
   "display_name": "Python 3.6.9 64-bit ('python36': conda)"
  }
 },
 "cells": [
  {
   "cell_type": "markdown",
   "execution_count": null,
   "metadata": {},
   "outputs": [],
   "source": [
    "## re模块"
   ]
  },
  {
   "cell_type": "code",
   "execution_count": 1,
   "metadata": {},
   "outputs": [],
   "source": [
    "import re"
   ]
  },
  {
   "cell_type": "code",
   "execution_count": 10,
   "metadata": {},
   "outputs": [
    {
     "output_type": "execute_result",
     "data": {
      "text/plain": "'sddfdds'"
     },
     "metadata": {},
     "execution_count": 10
    }
   ],
   "source": [
    "# | 或(两边不能有空格)\n",
    "\n",
    "re.sub('\\d+|,','','12,sddf,,d123ds')"
   ]
  },
  {
   "cell_type": "code",
   "execution_count": 42,
   "metadata": {},
   "outputs": [
    {
     "name": "stdout",
     "output_type": "stream",
     "text": "(0, 3)\nNone\n"
    }
   ],
   "source": [
    "# re.match\n",
    "# re.match 尝试从字符串的起始位置匹配一个模式，如果不是起始位置匹配成功的话，match()就返回none。\n",
    "print(re.match('www', 'www.runoob.com').span())  # 在起始位置匹配\n",
    "print(re.match('com', 'www.runoob.com'))         # 不在起始位置匹配"
   ]
  },
  {
   "cell_type": "code",
   "execution_count": 2,
   "metadata": {},
   "outputs": [
    {
     "name": "stdout",
     "output_type": "stream",
     "text": "(0, 3)\n(11, 14)\n"
    }
   ],
   "source": [
    "# re.search方法\n",
    "# re.search 扫描整个字符串并返回\"第一个\"成功的匹配。\n",
    "print(re.search('www', 'www.runoob.com').span())     # 在起始位置匹配\n",
    "print(re.search('com', 'www.runoob.com').span())         # 不在起始位置匹配"
   ]
  },
  {
   "cell_type": "code",
   "execution_count": 4,
   "metadata": {},
   "outputs": [
    {
     "data": {
      "text/plain": "'2004-959-559 '"
     },
     "execution_count": 4,
     "metadata": {},
     "output_type": "execute_result"
    }
   ],
   "source": [
    "# re.sub \n",
    "# re.sub用于替换字符串中的匹配项。\n",
    "# 语法：re.sub(pattern, repl, string, count=0, flags=0)    count:模式匹配后替换的最大次数，默认 0 表示替换所有的匹配。\n",
    "phone = \"2004-959-559 # 这是一个国外电话号码\"\n",
    "num = re.sub(r'#.*$', \"\", phone)\n",
    "num"
   ]
  },
  {
   "cell_type": "code",
   "execution_count": 8,
   "metadata": {},
   "outputs": [],
   "source": [
    "# re.compile 函数\n",
    "# compile 函数用于编译正则表达式，生成一个正则表达式（ Pattern ）对象，供 match() 和 search() 这两个函数使用。\n",
    "pattern = re.compile(r'\\d+')                    # 用于匹配至少一个数字\n",
    "m = pattern.match('one12twothree34four')        # 查找头部，没有匹配\n",
    "m"
   ]
  },
  {
   "cell_type": "code",
   "execution_count": 9,
   "metadata": {},
   "outputs": [
    {
     "data": {
      "text/plain": "<_sre.SRE_Match object; span=(3, 5), match='12'>"
     },
     "execution_count": 9,
     "metadata": {},
     "output_type": "execute_result"
    }
   ],
   "source": [
    "m = pattern.search('one12twothree34four')        # 查找头部，没有匹配\n",
    "m"
   ]
  },
  {
   "cell_type": "code",
   "execution_count": 11,
   "metadata": {},
   "outputs": [
    {
     "name": "stdout",
     "output_type": "stream",
     "text": "['123', '456']\n['88', '12']\n['123', '456']\n"
    }
   ],
   "source": [
    "# findall()函数\n",
    "# 在字符串中找到正则表达式所匹配的所有子串，并返回一个列表，如果没有找到匹配的，则返回空列表。\n",
    "# 注意： match 和 search 是匹配一次 findall 匹配所有。\n",
    "# 语法:findall(string[, pos[, endpos]])\n",
    "    # 参数：\n",
    "    # string : 待匹配的字符串。\n",
    "    # pos : 可选参数，指定字符串的起始位置，默认为 0。\n",
    "    # endpos : 可选参数，指定字符串的结束位置，默认为字符串的长度。\n",
    "\n",
    "# 方式一:\n",
    "pattern = re.compile(r'\\d+')   \n",
    "result1 = pattern.findall('runoob 123 google 456')\n",
    "result2 = pattern.findall('run88oob123google456', 0, 10)\n",
    "print(result1)\n",
    "print(result2)\n",
    "\n",
    "# 方式二\n",
    "result3 = re.findall(r'\\d+', 'runoob 123 google 456')\n",
    "print(result3)"
   ]
  },
  {
   "cell_type": "code",
   "execution_count": 3,
   "metadata": {},
   "outputs": [
    {
     "name": "stdout",
     "output_type": "stream",
     "text": "['我很开心', '哈哈', '']\n"
    }
   ],
   "source": [
    "# 字符串分割\n",
    "\n",
    "import re\n",
    "text = '我很开心。哈哈？'\n",
    "print(re.split('。|！|？',text))\n"
   ]
  },
  {
   "cell_type": "markdown",
   "execution_count": null,
   "metadata": {},
   "outputs": [],
   "source": [
    "## 分组(...)"
   ]
  },
  {
   "cell_type": "code",
   "execution_count": 35,
   "metadata": {},
   "outputs": [
    {
     "name": "stdout",
     "output_type": "stream",
     "text": "['sjf33djfj']\n33s\n"
    }
   ],
   "source": [
    "#(...)\n",
    "#re.findall与()结合使用,搜索的结果是()内的内容\n",
    "#re.match或者re.search与()结合使用,返回字符串中的内容\n",
    "string = '33sjf33djfj'\n",
    "print(re.findall('\\d+(\\w*)', string))\n",
    "print(re.match('\\d+(\\w)', string).group())"
   ]
  },
  {
   "cell_type": "code",
   "execution_count": null,
   "metadata": {},
   "outputs": [],
   "source": [
    "# 匹配由单个空格分隔的任意单词对，也就是姓和名\n",
    "s = \"Han meimei, Li lei, Zhan san, Li si\"\n",
    "print (re.findall(r'([A-Za-z]+) ([A-Za-z]+)',s))"
   ]
  },
  {
   "cell_type": "code",
   "execution_count": 4,
   "metadata": {},
   "outputs": [
    {
     "name": "stdout",
     "output_type": "stream",
     "text": "[('yu', 'G'), ('bei', 'L'), ('fei', 'Z')]\n"
    }
   ],
   "source": [
    "# 匹配由单个逗号和单个空白符分隔的任何单词和单个字母,如姓氏的首字母\n",
    "s = \"yu, Guan  bei, Liu  fei, Zhang\"\n",
    "print(re.findall(r'([a-zA-Z]+),\\s([a-zA-Z])',s))"
   ]
  },
  {
   "cell_type": "code",
   "execution_count": 28,
   "metadata": {},
   "outputs": [
    {
     "name": "stdout",
     "output_type": "stream",
     "text": "[' ive', ' Boulevard']\n1180   Bordeaux Dr ive\n"
    }
   ],
   "source": [
    "# ()后面接上+,表示可以匹配一组或者多组\n",
    "s = \"\"\"street 1: 1180   Bordeaux Dr ive, street 1: 3120 De la Cruz Boulevard\"\"\"\n",
    "print(re.findall(r'\\d+( +[a-zA-Z]+)+',s))\n",
    "print(re.search(r'\\d+( +[a-zA-Z]+)+',s).group())"
   ]
  },
  {
   "cell_type": "markdown",
   "execution_count": null,
   "metadata": {},
   "outputs": [],
   "source": [
    "## 贪婪与非贪婪模式 "
   ]
  },
  {
   "cell_type": "code",
   "execution_count": 41,
   "metadata": {},
   "outputs": [
    {
     "name": "stdout",
     "output_type": "stream",
     "text": "中华路中行路\n中华路\n"
    }
   ],
   "source": [
    "#在正则表达式里面加上?来使用非贪婪模式,默认是贪婪模式\n",
    "\n",
    "a = '中华路中行路哈哈'\n",
    "print(re.match(r'.*路',a).group())\n",
    "print(re.match(r'.*?路',a).group())"
   ]
  },
  {
   "cell_type": "code",
   "execution_count": null,
   "metadata": {},
   "outputs": [],
   "source": []
  },
  {
   "cell_type": "code",
   "execution_count": null,
   "metadata": {},
   "outputs": [],
   "source": []
  },
  {
   "cell_type": "code",
   "execution_count": null,
   "metadata": {},
   "outputs": [],
   "source": []
  },
  {
   "cell_type": "code",
   "execution_count": null,
   "metadata": {},
   "outputs": [],
   "source": []
  },
  {
   "cell_type": "code",
   "execution_count": null,
   "metadata": {},
   "outputs": [],
   "source": []
  },
  {
   "cell_type": "code",
   "execution_count": null,
   "metadata": {},
   "outputs": [],
   "source": []
  },
  {
   "cell_type": "code",
   "execution_count": null,
   "metadata": {},
   "outputs": [],
   "source": []
  },
  {
   "cell_type": "code",
   "execution_count": null,
   "metadata": {},
   "outputs": [],
   "source": []
  },
  {
   "cell_type": "code",
   "execution_count": null,
   "metadata": {},
   "outputs": [],
   "source": []
  },
  {
   "cell_type": "code",
   "execution_count": null,
   "metadata": {},
   "outputs": [],
   "source": []
  },
  {
   "cell_type": "code",
   "execution_count": null,
   "metadata": {},
   "outputs": [],
   "source": []
  },
  {
   "cell_type": "code",
   "execution_count": null,
   "metadata": {},
   "outputs": [],
   "source": []
  },
  {
   "cell_type": "code",
   "execution_count": null,
   "metadata": {},
   "outputs": [],
   "source": []
  },
  {
   "cell_type": "code",
   "execution_count": null,
   "metadata": {},
   "outputs": [],
   "source": []
  },
  {
   "cell_type": "code",
   "execution_count": null,
   "metadata": {},
   "outputs": [],
   "source": []
  },
  {
   "cell_type": "code",
   "execution_count": null,
   "metadata": {},
   "outputs": [],
   "source": []
  },
  {
   "cell_type": "code",
   "execution_count": null,
   "metadata": {},
   "outputs": [],
   "source": []
  },
  {
   "cell_type": "code",
   "execution_count": null,
   "metadata": {},
   "outputs": [],
   "source": []
  },
  {
   "cell_type": "code",
   "execution_count": null,
   "metadata": {},
   "outputs": [],
   "source": []
  },
  {
   "cell_type": "code",
   "execution_count": null,
   "metadata": {},
   "outputs": [],
   "source": []
  },
  {
   "cell_type": "code",
   "execution_count": null,
   "metadata": {},
   "outputs": [],
   "source": []
  }
 ]
}