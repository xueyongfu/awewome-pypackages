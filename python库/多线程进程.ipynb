{
 "cells": [
  {
   "cell_type": "code",
   "execution_count": null,
   "metadata": {},
   "outputs": [],
   "source": []
  },
  {
   "cell_type": "code",
   "execution_count": 5,
   "metadata": {
    "tags": []
   },
   "outputs": [
    {
     "output_type": "stream",
     "name": "stdout",
     "text": "Main: 5757\nthread 5757\nthread 5757\nthread 5757\nthread 5757\nthread 5757\n多线程执行时间:10\nprocess24918\nprocess24921\nprocess24928\nprocess24933\nprocess24938\n多进程执行时间:10\n"
    }
   ],
   "source": [
    "import os\n",
    "import time\n",
    "import threading\n",
    "import multiprocessing\n",
    "\n",
    "# Main\n",
    "print('Main:', os.getpid())\n",
    "\n",
    "# worker function\n",
    "def worker(sign, lock):\n",
    "    lock.acquire()\n",
    "    print(sign, os.getpid())\n",
    "    lock.release()\n",
    "    time.sleep(10)\n",
    "\n",
    "\n",
    "# Multi-thread\n",
    "record = []\n",
    "lock = threading.Lock()\n",
    "\n",
    "# Multi-process\n",
    "record = []\n",
    "lock = multiprocessing.Lock()\n",
    "\n",
    "if __name__ == '__main__':\n",
    "    # 多线程\n",
    "    start_time = time.time()\n",
    "    for i in range(5):\n",
    "        thread = threading.Thread(target=worker, args=('thread', lock))\n",
    "        thread.start()\n",
    "        record.append(thread)\n",
    "\n",
    "    for thread in record:\n",
    "        thread.join()\n",
    "    print('多线程执行时间:%d'%(time.time()-start_time))\n",
    "    \n",
    "    # 多进程\n",
    "    start_time = time.time()\n",
    "    for i in range(5):\n",
    "        process = multiprocessing.Process(target=worker, args=('process', lock))\n",
    "        process.start()\n",
    "        record.append(process)\n",
    "    \n",
    "    for process in record:\n",
    "        process.join()\n",
    "    print('多进程执行时间:%d'%(time.time()-start_time))\n"
   ]
  },
  {
   "cell_type": "code",
   "execution_count": null,
   "metadata": {},
   "outputs": [],
   "source": []
  },
  {
   "cell_type": "code",
   "execution_count": null,
   "metadata": {},
   "outputs": [],
   "source": []
  },
  {
   "cell_type": "code",
   "execution_count": null,
   "metadata": {},
   "outputs": [],
   "source": []
  }
 ],
 "metadata": {
  "language_info": {
   "codemirror_mode": {
    "name": "ipython",
    "version": 3
   },
   "file_extension": ".py",
   "mimetype": "text/x-python",
   "name": "python",
   "nbconvert_exporter": "python",
   "pygments_lexer": "ipython3",
   "version": "3.6.10-final"
  },
  "orig_nbformat": 2,
  "kernelspec": {
   "name": "python3",
   "display_name": "Python 3"
  }
 },
 "nbformat": 4,
 "nbformat_minor": 2
}