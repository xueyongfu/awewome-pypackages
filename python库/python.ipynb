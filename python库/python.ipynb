{
 "nbformat": 4,
 "nbformat_minor": 2,
 "metadata": {
  "language_info": {
   "name": "python",
   "codemirror_mode": {
    "name": "ipython",
    "version": 3
   },
   "version": "3.6.9-final"
  },
  "orig_nbformat": 2,
  "file_extension": ".py",
  "mimetype": "text/x-python",
  "name": "python",
  "npconvert_exporter": "python",
  "pygments_lexer": "ipython3",
  "version": 3,
  "kernelspec": {
   "name": "python36964bitpy36torch12conda69cefb4d206245c4959c1e16372a73c3",
   "display_name": "Python 3.6.9 64-bit ('py36_torch1.2': conda)"
  }
 },
 "cells": [
  {
   "cell_type": "markdown",
   "execution_count": null,
   "metadata": {},
   "outputs": [],
   "source": [
    "## 类和对象  "
   ]
  },
  {
   "cell_type": "code",
   "execution_count": 1,
   "metadata": {},
   "outputs": [
    {
     "name": "stdout",
     "output_type": "stream",
     "text": "111\n"
    }
   ],
   "source": [
    "class A:\n",
    "    def __init__(self):\n",
    "        self.t1()   #如果将此行注销掉，会报错，self.num会识别不了\n",
    "    \n",
    "    def t1(self):\n",
    "        self.num = 111\n",
    "\n",
    "    def t2(self):\n",
    "        print(self.num)\n",
    "    \n",
    "a = A()\n",
    "a.t2()"
   ]
  },
  {
   "cell_type": "code",
   "execution_count": 2,
   "metadata": {},
   "outputs": [],
   "source": [
    "# Super的作用\n",
    "\n",
    "# 如果子类(Puple)继承父类(Person)不做初始化，那么会自动继承父类(Person)属性name。\n",
    "# 如果子类(Puple_Init)继承父类(Person)做了初始化，且不调用super初始化父类构造函数，那么子类(Puple_Init)不会自动继承父类的属性(name)。\n",
    "# 如果子类(Puple_super)继承父类(Person)做了初始化，且调用了super初始化了父类的构造函数，那么子类(Puple_Super)也会继承父类的(name)属性。\n",
    "class A:\n",
    "    def __init__(self):\n",
    "        print('A')\n",
    "        \n",
    "class B(A):\n",
    "    def __init__(self):\n",
    "        print('B')\n",
    "        super().__init__()\n",
    "\n",
    "class C(A):\n",
    "    def __init__(self):\n",
    "        print('C')\n",
    "        super().__init__()\n",
    "\n",
    "class D(A):\n",
    "    def __init__(self):\n",
    "        print('D')\n",
    "        super().__init__()\n",
    "        \n",
    "class E(B, C):\n",
    "    def __init__(self):\n",
    "        print('E')\n",
    "        super().__init__()\n",
    "\n",
    "\n",
    "class F(C, D):\n",
    "    def __init__(self):\n",
    "        print('F')\n",
    "        super().__init__()\n",
    "\n",
    "class G(E, F):\n",
    "    def __init__(self):\n",
    "        print('G')\n",
    "        super().__init__()"
   ]
  },
  {
   "cell_type": "markdown",
   "execution_count": null,
   "metadata": {},
   "outputs": [],
   "source": [
    "## Datatime库 "
   ]
  },
  {
   "cell_type": "code",
   "execution_count": 5,
   "metadata": {},
   "outputs": [
    {
     "data": {
      "text/plain": "datetime.datetime(2019, 12, 5, 17, 33, 55, 696288)"
     },
     "execution_count": 5,
     "metadata": {},
     "output_type": "execute_result"
    }
   ],
   "source": [
    "# 输出当前时间\n",
    "\n",
    "from datetime import datetime\n",
    "now = datetime.now()\n",
    "now\n",
    "\n",
    "# 输出当前时间的年、月、日\n",
    "# now.year, now.month, now.day"
   ]
  },
  {
   "cell_type": "code",
   "execution_count": 6,
   "metadata": {},
   "outputs": [
    {
     "data": {
      "text/plain": "datetime.timedelta(926, 56700)"
     },
     "execution_count": 6,
     "metadata": {},
     "output_type": "execute_result"
    }
   ],
   "source": [
    "# 计算两个时间点间的时间差\n",
    "\n",
    "datetime(2011, 1, 7) - datetime(2008, 6, 24, 8, 15)\n",
    "# 输出#即926天，56700秒"
   ]
  },
  {
   "cell_type": "code",
   "execution_count": 8,
   "metadata": {},
   "outputs": [
    {
     "data": {
      "text/plain": "datetime.datetime(2011, 1, 19, 0, 0)"
     },
     "execution_count": 8,
     "metadata": {},
     "output_type": "execute_result"
    }
   ],
   "source": [
    "# 时间相加\n",
    "\n",
    "from datetime import timedelta\n",
    "\n",
    "start = datetime(2011, 1, 7)\n",
    "start + timedelta(12) #默认是天数，等同于timedelta(days=12)"
   ]
  },
  {
   "cell_type": "code",
   "execution_count": 10,
   "metadata": {},
   "outputs": [
    {
     "name": "stdout",
     "output_type": "stream",
     "text": "Thu, Dec 05 17:39\n"
    }
   ],
   "source": [
    "# 日期转字符串\n",
    "\n",
    "from datetime import datetime\n",
    "now = datetime.now()\n",
    "print(now.strftime('%a, %b %d %H:%M'))"
   ]
  },
  {
   "cell_type": "markdown",
   "execution_count": null,
   "metadata": {},
   "outputs": [],
   "source": [
    "## 文件读取"
   ]
  },
  {
   "cell_type": "code",
   "execution_count": null,
   "metadata": {},
   "outputs": [],
   "source": [
    "# 读取数据，然后清空数据并写入\n",
    "\n",
    "fx = open(history_best_score_path,'r+')\n",
    "fx.seek(0,0)\n",
    "fx.write(self.his_best_score)"
   ]
  },
  {
   "cell_type": "code",
   "execution_count": null,
   "metadata": {},
   "outputs": [],
   "source": [
    "# 文件读取方式\n",
    "\n",
    "read()   #将文本文件所有行读到一个字符串中。\n",
    "readline()    #是一行一行的读\n",
    "readlines()      #是将文本文件中所有行读到一个list中，文本文件每一行是list的一个元素。优点：readline()可以在读行过程中跳过特定行。"
   ]
  },
  {
   "cell_type": "code",
   "execution_count": null,
   "metadata": {},
   "outputs": [],
   "source": [
    "# 大文件读取\n",
    "\n",
    "# 方式1：分块读取\n",
    "# 将大文件分割成若干小文件处理，处理完每个小文件后释放该部分内存。这里用了iter 和 yield\n",
    "def read_in_chunks(filePath, chunk_size=1024*1024):\n",
    "    file_object = open(filePath)\n",
    "    while True:\n",
    "        chunk_data = file_object.read(chunk_size)\n",
    "        if not chunk_data:\n",
    "            break\n",
    "        yield chunk_data\n",
    "        \n",
    "if __name__ == \"__main__\":\n",
    "    filePath = './path/filename'\n",
    "    for chunk in read_in_chunks(filePath):\n",
    "        process(chunk)  # <do something with chunk>\n",
    "\n",
    "# 方式2：for line in f 方式\n",
    "# for line in f: 文件对象f视为一个迭代器，会自动的采用缓冲IO和内存管理，所以你不必担心大文件。 \n",
    "# 一般的使用方法是:\n",
    "with open(file_path) as f:\n",
    "　　for line in f:\n",
    "        (1)process(line)  \n",
    "        (2)将处理后的结果存储起来\n",
    "        (3)将这部分数据drop掉"
   ]
  },
  {
   "cell_type": "code",
   "execution_count": 22,
   "metadata": {},
   "outputs": [],
   "source": [
    "# 二进制文件读取\n",
    "\n",
    "path = '/home/xyf/桌面/seq2seq/fairseq/data-bin/test.de-en.de.bin'\n",
    "import struct\n",
    "\n",
    "with open(path,'rb') as f:\n",
    "    i = 0\n",
    "    while i < 20:\n",
    "        i += 1\n",
    "        data = f.read(4)\n",
    "        p = struct.unpack('<i',data)\n",
    "\n",
    "# 注释:读取二进制文件相当于一个解码过程,不知道格式是没办法读取的,或者读取的内容是错误的"
   ]
  },
  {
   "cell_type": "markdown",
   "execution_count": null,
   "metadata": {},
   "outputs": [],
   "source": [
    "## 列表和集合"
   ]
  },
  {
   "cell_type": "code",
   "execution_count": null,
   "metadata": {},
   "outputs": [],
   "source": [
    "# 列表函数与方法\n",
    "\n",
    "序号\t函数\n",
    "1\tlen(list)列表元素个数\n",
    "2\tmax(list)返回列表元素最大值\n",
    "3\tmin(list)返回列表元素最小值\n",
    "4\tlist(seq)将元组转换为列表\n",
    "Python包含以下方法:\n",
    "\n",
    "\n",
    "\n",
    "序号\t方法\n",
    "1\t    list.append(obj)      在列表末尾添加新的对象\n",
    "2\t    list.count(obj)       统计某个元素在列表中出现的次数\n",
    "3\t    list.extend(seq)      在列表末尾一次性追加另一个序列中的多个值（用新列表扩展原来的列表）\n",
    "4\t    list.index(obj)       从列表中找出某个值第一个匹配项的索引位置\n",
    "5\t    list.insert(index, obj)   将对象插入列表\n",
    "6\t    list.pop([index=-1])  移除列表中的一个元素（默认最后一个元素），并且返回该元素的值\n",
    "7\t    list.remove(obj)      移除列表中某个值的第一个匹配项\n",
    "8\t    list.reverse()        反向列表中元素\n",
    "9\t    list.sort( key=None, reverse=False)   对原列表进行排序\n",
    "10\t    list.clear()         清空列表\n",
    "11\t    list.copy()          复制列表"
   ]
  },
  {
   "cell_type": "code",
   "execution_count": null,
   "metadata": {},
   "outputs": [],
   "source": [
    "# 集合内置方法完整列表\n",
    "\n",
    "方法\t                         描述\n",
    "add()\t                        为集合添加元素\n",
    "clear()\t                        移除集合中的所有元素\n",
    "copy()\t                        拷贝一个集合\n",
    "difference()\t                返回多个集合的差集\n",
    "difference_update()\t            移除集合中的元素，该元素在指定的集合也存在。\n",
    "discard()\t                    删除集合中指定的元素\n",
    "intersection()\t                返回集合的交集\n",
    "intersection_update()\t        返回集合的交集。\n",
    "isdisjoint()\t                判断两个集合是否包含相同的元素，如果没有返回 True，否则返回 False。\n",
    "issubset()\t                    判断指定集合是否为该方法参数集合的子集。\n",
    "issuperset()\t                判断该方法的参数集合是否为指定集合的子集\n",
    "pop()\t                        随机移除元素\n",
    "remove()\t                    移除指定元素\n",
    "symmetric_difference()\t        返回两个集合中不重复的元素集合。\n",
    "symmetric_difference_update()\t移除当前集合中在另外一个指定集合相同的元素，并将另外一个指定集合中不同的元素插入到当前集合中。\n",
    "union()\t                        返回两个集合的并集\n",
    "update()\t                    给集合添加元素"
   ]
  },
  {
   "cell_type": "code",
   "execution_count": 1,
   "metadata": {},
   "outputs": [
    {
     "name": "stdout",
     "output_type": "stream",
     "text": "1\n2\n"
    }
   ],
   "source": [
    "# 参数*//**\n",
    "\n",
    "dic = {'a':1,'b':2}\n",
    "\n",
    "def a(a, b, c=0, d=0):\n",
    "    print(a)\n",
    "    print(b)\n",
    "\n",
    "a(**dic)"
   ]
  },
  {
   "cell_type": "code",
   "execution_count": null,
   "metadata": {},
   "outputs": [],
   "source": []
  },
  {
   "cell_type": "code",
   "execution_count": null,
   "metadata": {},
   "outputs": [],
   "source": []
  },
  {
   "cell_type": "code",
   "execution_count": null,
   "metadata": {},
   "outputs": [],
   "source": []
  },
  {
   "cell_type": "code",
   "execution_count": null,
   "metadata": {},
   "outputs": [],
   "source": []
  }
 ]
}