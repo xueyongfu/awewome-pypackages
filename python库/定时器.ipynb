{
 "cells": [
  {
   "cell_type": "code",
   "execution_count": null,
   "metadata": {},
   "outputs": [],
   "source": [
    "import sched\n",
    "import time\n",
    "from datetime import datetime"
   ]
  },
  {
   "cell_type": "code",
   "execution_count": null,
   "metadata": {
    "tags": []
   },
   "outputs": [],
   "source": [
    "\n",
    "# 初始化sched模块的 scheduler 类\n",
    "# 第一个参数是一个可以返回时间戳的函数，第二个参数可以在定时未到达之前阻塞。\n",
    "schedule = sched.scheduler(time.time, time.sleep)\n",
    "\n",
    "# 被周期性调度触发的函数\n",
    "def printTime(inc):\n",
    "    print(datetime.now().strftime(\"%Y-%m-%d %H:%M:%S\"))\n",
    "    schedule.enter(inc, 0, printTime, (inc,))\n",
    "\n",
    "# 默认参数60s\n",
    "def main(inc=4):\n",
    "    # enter四个参数分别为：间隔事件、优先级（用于同时间到达的两个事件同时执行时定序）、被调用触发的函数，\n",
    "    # 给该触发函数的参数（tuple形式）\n",
    "    schedule.enter(0, 0, printTime, (inc,))\n",
    "    schedule.run()\n",
    "    \n",
    "# 10s 输出一次\n",
    "main(10)"
   ]
  },
  {
   "cell_type": "code",
   "execution_count": null,
   "metadata": {
    "tags": []
   },
   "outputs": [],
   "source": [
    "# 首先来看一个周一到周五每天早上6点半喊我起床的例子\n",
    "\n",
    "from apscheduler.schedulers.blocking import BlockingScheduler\n",
    "from datetime import datetime\n",
    "# 输出时间\n",
    "def job():\n",
    "    print(datetime.now().strftime(\"%Y-%m-%d %H:%M:%S\"))\n",
    "# BlockingScheduler\n",
    "scheduler = BlockingScheduler()\n",
    "scheduler.add_job(func=job, trigger='cron', day_of_week='1-5', hour=17, minute=5)\n",
    "scheduler.start()\n",
    "\n",
    "# BlockingScheduler是APScheduler中的调度器, trigger可取 cron(定时), interval(间隔), data"
   ]
  },
  {
   "cell_type": "code",
   "execution_count": null,
   "metadata": {
    "tags": []
   },
   "outputs": [],
   "source": [
    "from apscheduler.schedulers.blocking import BlockingScheduler\n",
    "from datetime import datetime\n",
    "\n",
    "def job():\n",
    "    print(datetime.now().strftime(\"%Y-%m-%d %H:%M:%S\"))\n",
    "# 定义BlockingScheduler\n",
    "sched = BlockingScheduler()\n",
    "sched.add_job(job, 'interval', seconds=1)\n",
    "sched.start()"
   ]
  },
  {
   "cell_type": "code",
   "execution_count": null,
   "metadata": {},
   "outputs": [],
   "source": []
  },
  {
   "cell_type": "code",
   "execution_count": null,
   "metadata": {
    "tags": []
   },
   "outputs": [],
   "source": [
    "# 对 job 的操作\n",
    "\n",
    "# 1.添加job：\n",
    "\n",
    "# add_job()\n",
    "# scheduled_job() 第二种方法只适用于应用运行期间不会改变的 job，而第一种方法返回一个apscheduler.job.Job 的实例，可以用来改变或者移除 job。\n",
    "\n",
    "\n",
    "from apscheduler.schedulers.blocking import BlockingScheduler\n",
    "sched = BlockingScheduler()\n",
    "# 装饰器\n",
    "@sched.scheduled_job('interval', id='my_job_id', seconds=5)\n",
    "def job_function():\n",
    "    print(\"Hello World\")\n",
    "\n",
    "sched.start()"
   ]
  },
  {
   "cell_type": "code",
   "execution_count": null,
   "metadata": {},
   "outputs": [],
   "source": [
    "# 2.移除 job\n",
    "# 移除 job 也有两种方法：\n",
    "\n",
    "# remove_job()\n",
    "# job.remove()\n",
    "\n",
    "job = scheduler.add_job(myfunc, 'interval', minutes=2)\n",
    "job.remove()\n",
    "# id\n",
    "scheduler.add_job(myfunc, 'interval', minutes=2, id='my_job_id')\n",
    "scheduler.remove_job('my_job_id')"
   ]
  },
  {
   "cell_type": "code",
   "execution_count": null,
   "metadata": {},
   "outputs": [],
   "source": []
  },
  {
   "cell_type": "code",
   "execution_count": null,
   "metadata": {},
   "outputs": [],
   "source": []
  },
  {
   "cell_type": "code",
   "execution_count": null,
   "metadata": {},
   "outputs": [],
   "source": []
  }
 ],
 "metadata": {
  "language_info": {
   "codemirror_mode": {
    "name": "ipython",
    "version": 3
   },
   "file_extension": ".py",
   "mimetype": "text/x-python",
   "name": "python",
   "nbconvert_exporter": "python",
   "pygments_lexer": "ipython3",
   "version": "3.6.10-final"
  },
  "orig_nbformat": 2,
  "kernelspec": {
   "name": "python3",
   "display_name": "Python 3"
  }
 },
 "nbformat": 4,
 "nbformat_minor": 2
}