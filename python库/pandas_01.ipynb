{
 "nbformat": 4,
 "nbformat_minor": 2,
 "metadata": {
  "language_info": {
   "name": "python",
   "codemirror_mode": {
    "name": "ipython",
    "version": 3
   },
   "version": "3.6.9"
  },
  "orig_nbformat": 2,
  "file_extension": ".py",
  "mimetype": "text/x-python",
  "name": "python",
  "npconvert_exporter": "python",
  "pygments_lexer": "ipython3",
  "version": 3
 },
 "cells": [
  {
   "cell_type": "markdown",
   "metadata": {},
   "outputs": [],
   "source": [
    "## 其他方法"
   ]
  },
  {
   "cell_type": "code",
   "metadata": {},
   "outputs": [],
   "source": [
    "# 排序sort()\n",
    "\n",
    "# 将一列排序\n",
    "Table[['某列']].sort()\n",
    " \n",
    "# 将多列按照某一列排序\n",
    "Table[['列1', '列2', '列3']].sort('列1')\n",
    " \n",
    "# 值排序一般使用sort_values()\n",
    "Table.sort_values(by = ['sex', 'age'])"
   ]
  },
  {
   "cell_type": "code",
   "metadata": {},
   "outputs": [],
   "source": [
    "# 抽样take()\n",
    "\n",
    "# 对于一个dataframe，take函数可以根据sampler按照行索引抽取数据\n",
    "df.take(sampler)"
   ]
  },
  {
   "cell_type": "code",
   "execution_count": null,
   "metadata": {},
   "outputs": [],
   "source": [
    "# 哑变量get_dummies()\n",
    "\n",
    "pd.get_dummies(df['key']，prefix='key')"
   ]
  },
  {
   "cell_type": "markdown",
   "metadata": {},
   "outputs": [],
   "source": [
    "## 数据查看与查询"
   ]
  },
  {
   "cell_type": "code",
   "metadata": {},
   "outputs": [],
   "source": [
    "# 可以得到属性类别情况\n",
    "\n",
    "df.info()\n",
    "<class 'pandas.core.frame.DataFrame'>\n",
    "RangeIndex: 99122 entries, 0 to 99121\n",
    "Columns: 122 entries, id to sec_app_mths_since_last_major_derog\n",
    "dtypes: float64(97), object(25)\n",
    "memory usage: 92.3+ MB"
   ]
  },
  {
   "cell_type": "code",
   "metadata": {},
   "outputs": [],
   "source": [
    "# 直接打印表对象\n",
    "\n",
    "# 当你查看一个大型数据框架，而不是显示数据框架的内容，它会显示一个摘要。这包括所有列，以及每列中有多少非空值。\n",
    "# 如直接输出 complaints\n",
    "complaints = pd.read_csv('../data/311-service-requests.csv')\n",
    "complaints"
   ]
  },
  {
   "cell_type": "code",
   "metadata": {},
   "outputs": [],
   "source": [
    "# 查看每列的类型\n",
    "df.dtypes\n",
    " \n",
    "# 查找多列，列索引必须要用中括号扩起来\n",
    "complaints[['Complaint Type', 'Borough']][:10]\n",
    " \n",
    "# 查找多行，这里的ix索引标签函数必须是中括号[]\n",
    "student.ix[[0,2,4,5,7]]\n",
    " "
   ]
  },
  {
   "cell_type": "code",
   "metadata": {},
   "outputs": [],
   "source": [
    "#条件查询\n",
    "\n",
    "# 查询出所有12岁以上的女生姓名、身高和体重\n",
    "student[(student['Sex']=='F') & (student['Age']>12)][['Name','Height','Weight']]\n",
    " \n",
    "# 查看某列中各个种类出现的次数\n",
    "complaints['Complaint Type'].value_counts()\n",
    " \n",
    "# 查看某列中属于某个种类的数据\n",
    "# 为了得到噪音投诉，我们需要找到 Complaint Type  列为 Noise -Street/Sidewalk  的行。 我会告诉你如何做，然后解释发生了什么。\n",
    "noise_complaints = complaints[complaints['Complaint Type'] == \"Noise - Street/Sidewalk\"]\n",
    " \n",
    "# 将多个条件与 & 运算符组合\n",
    "is_noise = complaints['Complaint Type'] == \"Noise - Street/Sidewalk\"\n",
    "in_brooklyn = complaints['Borough'] == \"BROOKLYN\"\n",
    "complaints[is_noise & in_brooklyn][:5]\n",
    "\n",
    "# 函数中用来判断条件符合的数据集并返回\n",
    "# df.query(条件式) \n",
    "df_new.query(\"duration > 100 & index == 'UK'\")"
   ]
  },
  {
   "cell_type": "markdown",
   "metadata": {},
   "outputs": [],
   "source": [
    "## 数据预处理 \n",
    "数据预处理包括:重复数据处理,缺失值处理"
   ]
  },
  {
   "cell_type": "code",
   "metadata": {},
   "outputs": [],
   "source": [
    "import pandas as pd \n",
    "import numpy as np"
   ]
  },
  {
   "cell_type": "code",
   "metadata": {},
   "outputs": [],
   "source": [
    "# 移除重复数据\n",
    "data.duplicated()    #查看是否存在重复数据\n",
    "data.drop_duplicates()     #去掉重复数据"
   ]
  },
  {
   "cell_type": "code",
   "metadata": {},
   "outputs": [],
   "source": [
    "# 缺失值处理\n",
    "\n",
    "# 查看每列缺失值的数量\n",
    "null_list = []\n",
    "for i in df.columns:\n",
    "    null_sum = len(df) - df[i].count()\n",
    "    rate = 1.0 * null_sum/len(df)\n",
    "    nul_list.append([i, null_sum, rate])  \n",
    "pd.DataFrame(nul_list, columns=[\"字段\", \"缺失值数量\", \"缺失值占比\"])\n",
    " \n",
    "# 或者这样查看缺失值\n",
    "aa = full.isnull().sum()\n",
    "aa[aa>0].sort_values(ascending=False)"
   ]
  },
  {
   "cell_type": "code",
   "metadata": {},
   "outputs": [],
   "source": [
    "# 缺失值处理\n",
    "\n",
    "# 直接删除\n",
    "# 默认对行进行操作,会删除任意含有缺失值的行\n",
    "df.dropna()      \n",
    "\n",
    "# 删除指定行\n",
    "student.drop([1,4,7])\n",
    "\n",
    "# 删除指定列\n",
    "Student.drop(['列1','列2'], axis=1)\n",
    "\n",
    "#只删除全是缺失值的行\n",
    "df.drop(how=all)      "
   ]
  },
  {
   "cell_type": "code",
   "metadata": {},
   "outputs": [],
   "source": [
    "# 填补法\n",
    "\n",
    "# 1.使用0填充\n",
    "df.fillna(0)\n",
    "\n",
    "# 2.前向填充和后向填充\n",
    "df.fillna(method=ffill)\n",
    "df.fillna(method=bfill)\n",
    "\n",
    "# 3.常量填充, 或者均值填充，中位数填充\n",
    "df.fillna({'列1': 2，'列2': 3})"
   ]
  },
  {
   "cell_type": "code",
   "metadata": {},
   "outputs": [],
   "source": [
    "# 插值法\n",
    "# 自定义列向量拉格朗日插值函数\n",
    "\n",
    "#s为列向量，n为被插值的位置，k为取前后的数据个数，默认为5\n",
    "from scipy.interpolate import lagrange #导入拉格朗日插值函数\n",
    "def ployinterp_column(s, n, k=5):\n",
    "    y = s[list(range(n-k, n)) + list(range(n+1, n+1+k))] #取数\n",
    "    y = y[y.notnull()] #剔除空值\n",
    "    return lagrange(y.index, list(y))  #插值并返回插值结果\n",
    " \n",
    "#逐个元素判断是否需要插值\n",
    "for i in data.columns:\n",
    "    for j in range(len(data)):\n",
    "        if (data[i][j]).isnull(): #如果为空即插值。\n",
    "            data[i][j] = ployinterp_column(data[i], j)"
   ]
  },
  {
   "cell_type": "code",
   "metadata": {},
   "outputs": [],
   "source": [
    "# 数据规范化\n",
    "\n",
    "#最小-最大规范化，会作用于每一列\n",
    "(data - data.min())/(data.max() - data.min())\n",
    " \n",
    "#零-均值规范化，会作用于每一列\n",
    "(data - data.mean())/data.std()"
   ]
  },
  {
   "cell_type": "code",
   "metadata": {},
   "outputs": [],
   "source": [
    "# 连续属性离散化\n",
    "\n",
    "# 将数据分配到一个数据空间中\n",
    "ages = [20, 22, 25, 27, 21, 23, 37, 31, 61, 45, 41, 32]\n",
    "bins = [18, 25, 35, 60, 100]\n",
    "cats = pd.cut(ages, bins)   #由bins可以得到四个空间，然后将ages中每一个数字放入合适的空间中\n",
    " \n",
    "# 获得每个数据的空间名\n",
    "cats.labels\n",
    " \n",
    "# 获得总共划分了多少空间\n",
    "cats.levels\n",
    " \n",
    "# 查看每个空间有多少数据被划分进去\n",
    "pd.value_counts(cats)\n",
    " \n",
    "# 指定每个空间的开闭口的方位\n",
    "pd.cut(ages, [18, 26, 36, 61, 100], right=False)\n",
    " \n",
    "# 为空间命名\n",
    "group_names = ['Youth', 'YoungAdult', 'MiddleAged', 'Senior']\n",
    "pd.cut(ages, bins, labels=group_names)\n",
    "\n"
   ]
  },
  {
   "cell_type": "code",
   "metadata": {},
   "outputs": [],
   "source": [
    "# 默认qcut()将数据n等分，可以同给给出累计分布值的方式对数据进行划分\n",
    "data = np.random.randn(100)\n",
    " \n",
    "cats = pd.qcut(data, 4) # Cut into quartiles\n",
    "print(pd.value_counts(cats))\n",
    " \n",
    "pd.qcut(data, [0, 0.1, 0.5, 0.9, 1])  #按照累计分布直进行数据切分"
   ]
  },
  {
   "cell_type": "code",
   "metadata": {},
   "outputs": [],
   "source": []
  },
  {
   "cell_type": "code",
   "metadata": {},
   "outputs": [],
   "source": []
  },
  {
   "cell_type": "code",
   "metadata": {},
   "outputs": [],
   "source": []
  },
  {
   "cell_type": "code",
   "metadata": {},
   "outputs": [],
   "source": []
  },
  {
   "cell_type": "code",
   "metadata": {},
   "outputs": [],
   "source": []
  },
  {
   "cell_type": "code",
   "metadata": {},
   "outputs": [],
   "source": []
  }
 ]
}