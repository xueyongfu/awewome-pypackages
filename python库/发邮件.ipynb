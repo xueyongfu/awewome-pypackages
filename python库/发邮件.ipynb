{
 "nbformat": 4,
 "nbformat_minor": 2,
 "metadata": {
  "language_info": {
   "name": "python",
   "codemirror_mode": {
    "name": "ipython",
    "version": 3
   },
   "version": "3.6.9-final"
  },
  "orig_nbformat": 2,
  "file_extension": ".py",
  "mimetype": "text/x-python",
  "name": "python",
  "npconvert_exporter": "python",
  "pygments_lexer": "ipython3",
  "version": 3,
  "kernelspec": {
   "name": "python36964bitpython36conda887ba476e9aa484bad06fe49784f25a0",
   "display_name": "Python 3.6.9 64-bit ('python36': conda)"
  }
 },
 "cells": [
  {
   "cell_type": "code",
   "execution_count": null,
   "metadata": {},
   "outputs": [],
   "source": [
    "# 登录 163 邮箱，向 qq 邮箱发送邮件。\n",
    "\n",
    "# 脚本分为三个步骤：\n",
    "\n",
    "# 设置好服务器端信息\n",
    "# 邮件主体信息\n",
    "# 登录发送\n",
    "# 另外在处理文本时，我们需要使用 MIMEText 类。"
   ]
  },
  {
   "cell_type": "code",
   "execution_count": 3,
   "metadata": {},
   "outputs": [
    {
     "output_type": "stream",
     "name": "stdout",
     "text": "success\n"
    }
   ],
   "source": [
    "import smtplib\n",
    "from email.mime.text import MIMEText\n",
    "#设置服务器所需信息\n",
    "#163邮箱服务器地址 \n",
    "mail_host = 'smtp.163.com' \n",
    "#163用户名\n",
    "mail_user = '16602118571'  \n",
    "#密码(部分邮箱为授权码) \n",
    "mail_pass = 'xyf541807'   \n",
    "#邮件发送方邮箱地址\n",
    "sender = '16602118571@163.com'  \n",
    "#邮件接受方邮箱地址，注意需要[]包裹，这意味着你可以写多个邮件地址群发\n",
    "receivers = ['303740673@qq.com']  \n",
    "\n",
    "#设置email信息\n",
    "#邮件内容设置\n",
    "content = '邮件内容'\n",
    "message = MIMEText(content,'plain','utf-8')\n",
    "#邮件主题       \n",
    "message['Subject'] = '代码错误邮件' \n",
    "#发送方信息\n",
    "message['From'] = sender \n",
    "#接受方信息     \n",
    "message['To'] = receivers[0]  \n",
    "\n",
    "#登录并发送邮件\n",
    "try:\n",
    "    smtpObj = smtplib.SMTP() \n",
    "    #连接到服务器\n",
    "    smtpObj.connect(mail_host,25)\n",
    "    #登录到服务器\n",
    "    smtpObj.login(mail_user,mail_pass) \n",
    "    #发送\n",
    "    smtpObj.sendmail(\n",
    "        sender,receivers,message.as_string()) \n",
    "    #退出\n",
    "    smtpObj.quit() \n",
    "    print('success')\n",
    "except smtplib.SMTPException as e:\n",
    "    print('error',e) #打印错误"
   ]
  },
  {
   "cell_type": "code",
   "execution_count": null,
   "metadata": {},
   "outputs": [],
   "source": []
  },
  {
   "cell_type": "code",
   "execution_count": null,
   "metadata": {},
   "outputs": [],
   "source": []
  },
  {
   "cell_type": "code",
   "execution_count": null,
   "metadata": {},
   "outputs": [],
   "source": []
  }
 ]
}