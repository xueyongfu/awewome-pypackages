{
 "nbformat": 4,
 "nbformat_minor": 2,
 "metadata": {
  "language_info": {
   "name": "python",
   "codemirror_mode": {
    "name": "ipython",
    "version": 3
   },
   "version": "3.6.9-final"
  },
  "orig_nbformat": 2,
  "file_extension": ".py",
  "mimetype": "text/x-python",
  "name": "python",
  "npconvert_exporter": "python",
  "pygments_lexer": "ipython3",
  "version": 3,
  "kernelspec": {
   "name": "python36964bitpython36conda887ba476e9aa484bad06fe49784f25a0",
   "display_name": "Python 3.6.9 64-bit ('python36': conda)"
  }
 },
 "cells": [
  {
   "cell_type": "code",
   "execution_count": 6,
   "metadata": {
    "tags": [
     "outputPrepend",
     "outputPrepend",
     "outputPrepend",
     "outputPrepend",
     "outputPrepend",
     "outputPrepend",
     "outputPrepend",
     "outputPrepend",
     "outputPrepend",
     "outputPrepend",
     "outputPrepend",
     "outputPrepend",
     "outputPrepend"
    ]
   },
   "outputs": [
    {
     "output_type": "stream",
     "name": "stdout",
     "text": "Processing File: /home/xyf/桌面/多方面情感分析/TC-LSTM-LeftRight-/xmlparser.py\n\nProcessing File: /home/xyf/桌面/多方面情感分析/TC-LSTM-LeftRight-/bilstm.py\n\nProcessing File: /home/xyf/桌面/多方面情感分析/TC-LSTM-LeftRight-/preprocessing.py\n\nProcessing File: /home/xyf/桌面/多方面情感分析/TC-LSTM-LeftRight-/TCmodel.py\n\nProcessing File: /home/xyf/桌面/多方面情感分析/TC-LSTM-LeftRight-/prepre.py\n\nProcessing File: /home/xyf/桌面/多方面情感分析/TC-LSTM-LeftRight-/oldcode/relevantWord.py\n\nProcessing File: /home/xyf/桌面/多方面情感分析/TC-LSTM-LeftRight-/oldcode/preprocess.py\n\nProcessing File: /home/xyf/桌面/多方面情感分析/TC-LSTM-LeftRight-/oldcode/model.py\n--- /home/xyf/桌面/多方面情感分析/TC-LSTM-LeftRight-/oldcode/model.py\t(original)\n+++ /home/xyf/桌面/多方面情感分析/TC-LSTM-LeftRight-/oldcode/model.py\t(refactored)\n@@ -98,38 +98,38 @@\n         \n number_of_epochs = 20\n stepsize = 24000\n-print(\"%d epochs\" % number_of_epochs)\n+print((\"%d epochs\" % number_of_epochs))\n \n-print(\"%d train sentences\" % len(train_data))\n-print(\"%d dev sentences\" % len(dev_data))\n-print(\"%d test sentences\" % len(test_data))\n+print((\"%d train sentences\" % len(train_data)))\n+print((\"%d dev sentences\" % len(dev_data)))\n+print((\"%d test sentences\" % len(test_data)))\n \n for epoch in range(number_of_epochs):    \n-    print(\"--------- Epoch %d -----------\" % epoch)\n+    print((\"--------- Epoch %d -----------\" % epoch))\n     random.shuffle(train_data)\n     for startIdx in range(0, len(train_data), stepsize):\n         start_time = time.time()    \n         for batch in iterate_minibatches(train_data, startIdx, startIdx+stepsize):\n             labels, tokens, casing = batch       \n             model.train_on_batch([tokens, casing], labels)   \n-        print(\"%.2f sec for training\" % (time.time() - start_time))\n+        print((\"%.2f sec for training\" % (time.time() - start_time)))\n         \n         \n         #Train Dataset       \n         start_time = time.time()    \n         predLabels, correctLabels = tag_dataset(train_data)        \n         pre_train, rec_train, f1_train = BIOF1Validation.compute_f1(predLabels, correctLabels, idx2Label)\n-        print(\"Train-Data: Prec: %.3f, Rec: %.3f, F1: %.3f\" % (pre_train, rec_train, f1_train))\n+        print((\"Train-Data: Prec: %.3f, Rec: %.3f, F1: %.3f\" % (pre_train, rec_train, f1_train)))\n         \n         #Dev Dataset       \n         predLabels, correctLabels = tag_dataset(dev_data)        \n         pre_dev, rec_dev, f1_dev = BIOF1Validation.compute_f1(predLabels, correctLabels, idx2Label)\n-        print(\"Dev-Data: Prec: %.3f, Rec: %.3f, F1: %.3f\" % (pre_dev, rec_dev, f1_dev))\n+        print((\"Dev-Data: Prec: %.3f, Rec: %.3f, F1: %.3f\" % (pre_dev, rec_dev, f1_dev)))\n         \n         #Test Dataset       \n         predLabels, correctLabels = tag_dataset(test_data)        \n         pre_test, rec_test, f1_test= BIOF1Validation.compute_f1(predLabels, correctLabels, idx2Label)\n-        print(\"Test-Data: Prec: %.3f, Rec: %.3f, F1: %.3f\" % (pre_test, rec_test, f1_test))\n+        print((\"Test-Data: Prec: %.3f, Rec: %.3f, F1: %.3f\" % (pre_test, rec_test, f1_test)))\n         \n-        print(\"%.2f sec for evaluation\" % (time.time() - start_time))\n+        print((\"%.2f sec for evaluation\" % (time.time() - start_time)))\n         print(\"\")\n\nProcessing File: /home/xyf/桌面/多方面情感分析/TC-LSTM-LeftRight-/oldcode/preprocessMain.py\n\nProcessing File: /home/xyf/桌面/多方面情感分析/TC-LSTM-LeftRight-/oldcode/pythonImp.py\n\n"
    }
   ],
   "source": [
    "import os\n",
    " \n",
    "# 定义一个处理方法\n",
    "def Python2toPython3(dirname, p2to3FileName):\n",
    "    if os.path.exists(dirname):\n",
    "        for dirpath, dirnames, filenames in os.walk(dirname):\n",
    "            for filename in filenames:\n",
    "                if filename.endswith('.py'):\n",
    "                    fileFullName = os.path.join(dirpath, filename)\n",
    "                    print('Processing File:', fileFullName)\n",
    "                    pycode2to3 = (\"python \" + p2to3FileName + \" -w \" +\n",
    "                                  fileFullName)\n",
    "                    print((os.popen(pycode2to3, 'r').read()))\n",
    " \n",
    " \n",
    "# dirname 需要转换的文件目录\n",
    "dirname = \"/home/xyf/桌面/多方面情感分析/TC-LSTM-LeftRight-\"\n",
    " \n",
    "# p2to3FileName 本机Python安装目录下的2to3.py的路径，2to3.py是python自带的工具\n",
    "p2to3FileName = (\"/home/xyf/anaconda3/bin/2to3\")\n",
    " \n",
    "Python2toPython3(dirname, p2to3FileName)"
   ]
  },
  {
   "cell_type": "code",
   "execution_count": null,
   "metadata": {},
   "outputs": [],
   "source": [
    "# 单文件转换\n",
    "\n",
    "/home/xyf/anaconda3/bin/2to3 -w transform.py"
   ]
  },
  {
   "cell_type": "code",
   "execution_count": null,
   "metadata": {},
   "outputs": [],
   "source": []
  },
  {
   "cell_type": "code",
   "execution_count": null,
   "metadata": {},
   "outputs": [],
   "source": []
  },
  {
   "cell_type": "code",
   "execution_count": null,
   "metadata": {},
   "outputs": [],
   "source": []
  }
 ]
}