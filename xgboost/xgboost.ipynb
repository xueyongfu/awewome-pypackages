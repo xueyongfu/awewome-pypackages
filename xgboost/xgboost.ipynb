{
 "nbformat": 4,
 "nbformat_minor": 2,
 "metadata": {
  "language_info": {
   "name": "python",
   "codemirror_mode": {
    "name": "ipython",
    "version": 3
   },
   "version": "3.6.9-final"
  },
  "orig_nbformat": 2,
  "file_extension": ".py",
  "mimetype": "text/x-python",
  "name": "python",
  "npconvert_exporter": "python",
  "pygments_lexer": "ipython3",
  "version": 3,
  "kernelspec": {
   "name": "python36964bitpython36conda887ba476e9aa484bad06fe49784f25a0",
   "display_name": "Python 3.6.9 64-bit ('python36': conda)"
  }
 },
 "cells": [
  {
   "cell_type": "code",
   "execution_count": 1,
   "metadata": {},
   "outputs": [],
   "source": [
    "import xgboost as xgb\n",
    "import numpy as np"
   ]
  },
  {
   "cell_type": "code",
   "execution_count": 2,
   "metadata": {},
   "outputs": [],
   "source": [
    "data = np.random.rand(5, 10)  # 5 entities, each contains 10 features\n",
    "label = np.random.randint(2, size=5)  # binary target\n",
    "dtrain = xgb.DMatrix(data, label=label)"
   ]
  },
  {
   "cell_type": "code",
   "execution_count": 6,
   "metadata": {},
   "outputs": [],
   "source": [
    "data = np.random.rand(5, 10)  # 5 entities, each contains 10 features\n",
    "label = np.random.randint(2, size=5)  # binary target\n",
    "dtest = xgb.DMatrix(data, label=label)"
   ]
  },
  {
   "cell_type": "code",
   "execution_count": 3,
   "metadata": {},
   "outputs": [],
   "source": [
    "param = {'max_depth': 2, 'eta': 1, 'objective': 'binary:logistic'}\n",
    "param['nthread'] = 4\n",
    "param['eval_metric'] = 'auc'"
   ]
  },
  {
   "cell_type": "code",
   "execution_count": 4,
   "metadata": {},
   "outputs": [],
   "source": [
    "param['eval_metric'] = ['auc', 'ams@0']\n"
   ]
  },
  {
   "cell_type": "code",
   "execution_count": 7,
   "metadata": {},
   "outputs": [],
   "source": [
    "evallist = [(dtest, 'eval'), (dtrain, 'train')]"
   ]
  },
  {
   "cell_type": "code",
   "execution_count": 8,
   "metadata": {},
   "outputs": [
    {
     "name": "stdout",
     "output_type": "stream",
     "text": "[0]\teval-auc:0.50000\teval-ams@0:0.00000\ttrain-auc:0.50000\ttrain-ams@0:0.00000\n[1]\teval-auc:0.50000\teval-ams@0:0.00000\ttrain-auc:0.50000\ttrain-ams@0:0.00000\n[2]\teval-auc:0.50000\teval-ams@0:0.00000\ttrain-auc:0.50000\ttrain-ams@0:0.00000\n[3]\teval-auc:0.50000\teval-ams@0:0.00000\ttrain-auc:0.50000\ttrain-ams@0:0.00000\n[4]\teval-auc:0.50000\teval-ams@0:0.00000\ttrain-auc:0.50000\ttrain-ams@0:0.00000\n[5]\teval-auc:0.50000\teval-ams@0:0.00000\ttrain-auc:0.50000\ttrain-ams@0:0.00000\n[6]\teval-auc:0.50000\teval-ams@0:0.00000\ttrain-auc:0.50000\ttrain-ams@0:0.00000\n[7]\teval-auc:0.50000\teval-ams@0:0.00000\ttrain-auc:0.50000\ttrain-ams@0:0.00000\n[8]\teval-auc:0.50000\teval-ams@0:0.00000\ttrain-auc:0.50000\ttrain-ams@0:0.00000\n[9]\teval-auc:0.50000\teval-ams@0:0.00000\ttrain-auc:0.50000\ttrain-ams@0:0.00000\n"
    }
   ],
   "source": [
    "# train\n",
    "num_round = 10\n",
    "bst = xgb.train(param, dtrain, num_round, evallist)"
   ]
  },
  {
   "cell_type": "code",
   "execution_count": 9,
   "metadata": {},
   "outputs": [],
   "source": [
    "# save\n",
    "bst.save_model('xgb.model')"
   ]
  },
  {
   "cell_type": "code",
   "execution_count": 11,
   "metadata": {},
   "outputs": [],
   "source": [
    "# The model and its feature map can also be dumped to a text file.\n",
    "\n",
    "# dump model\n",
    "bst.dump_model('dump.raw.txt')\n",
    "# dump model with feature map\n",
    "# bst.dump_model('dump.raw.txt', 'featmap.txt')"
   ]
  },
  {
   "cell_type": "code",
   "execution_count": 12,
   "metadata": {},
   "outputs": [],
   "source": [
    "# A saved model can be loaded as follows:\n",
    "\n",
    "bst = xgb.Booster({'nthread': 4})  # init model\n",
    "bst.load_model('xgb.model')  # load data"
   ]
  },
  {
   "cell_type": "code",
   "execution_count": null,
   "metadata": {},
   "outputs": [],
   "source": []
  },
  {
   "cell_type": "code",
   "execution_count": null,
   "metadata": {},
   "outputs": [],
   "source": []
  },
  {
   "cell_type": "code",
   "execution_count": null,
   "metadata": {},
   "outputs": [],
   "source": []
  },
  {
   "cell_type": "code",
   "execution_count": null,
   "metadata": {},
   "outputs": [],
   "source": []
  }
 ]
}