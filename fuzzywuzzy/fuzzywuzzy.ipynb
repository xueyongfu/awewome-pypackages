{
 "nbformat": 4,
 "nbformat_minor": 2,
 "metadata": {
  "language_info": {
   "name": "python",
   "codemirror_mode": {
    "name": "ipython",
    "version": 3
   },
   "version": "3.6.9-final"
  },
  "orig_nbformat": 2,
  "file_extension": ".py",
  "mimetype": "text/x-python",
  "name": "python",
  "npconvert_exporter": "python",
  "pygments_lexer": "ipython3",
  "version": 3,
  "kernelspec": {
   "name": "python36964bitpython36conda887ba476e9aa484bad06fe49784f25a0",
   "display_name": "Python 3.6.9 64-bit ('python36': conda)"
  }
 },
 "cells": [
  {
   "cell_type": "code",
   "execution_count": 3,
   "metadata": {},
   "outputs": [],
   "source": [
    " from fuzzywuzzy import fuzz\n",
    " from fuzzywuzzy import process"
   ]
  },
  {
   "cell_type": "code",
   "execution_count": 3,
   "metadata": {},
   "outputs": [
    {
     "output_type": "execute_result",
     "data": {
      "text/plain": "97"
     },
     "metadata": {},
     "execution_count": 3
    }
   ],
   "source": [
    "# Simple Ratio\n",
    "fuzz.ratio(\"this is a test\", \"this is a test!\")"
   ]
  },
  {
   "cell_type": "code",
   "execution_count": 4,
   "metadata": {},
   "outputs": [
    {
     "output_type": "execute_result",
     "data": {
      "text/plain": "100"
     },
     "metadata": {},
     "execution_count": 4
    }
   ],
   "source": [
    "# Partial Ratio\n",
    "fuzz.partial_ratio(\"this is a test\", \"this is a test!\")"
   ]
  },
  {
   "cell_type": "code",
   "execution_count": 5,
   "metadata": {},
   "outputs": [
    {
     "output_type": "stream",
     "name": "stdout",
     "text": "91\n100\n"
    }
   ],
   "source": [
    "# Token Sort Ratio\n",
    "a = fuzz.ratio(\"fuzzy wuzzy was a bear\", \"wuzzy fuzzy was a bear\")\n",
    "print(a)\n",
    "\n",
    "b = fuzz.token_sort_ratio(\"fuzzy wuzzy was a bear\", \"wuzzy fuzzy was a bear\")\n",
    "print(b)"
   ]
  },
  {
   "cell_type": "code",
   "execution_count": 6,
   "metadata": {},
   "outputs": [
    {
     "output_type": "stream",
     "name": "stdout",
     "text": "84\n100\n"
    }
   ],
   "source": [
    "# Token Set Ratio\n",
    "a = fuzz.token_sort_ratio({\"fuzzy was a bear\", \"fuzzy fuzzy was a bear\")\n",
    "print(a)\n",
    "\n",
    "b = fuzz.token_set_ratio(\"fuzzy was a bear\", \"fuzzy fuzzy was a bear\")\n",
    "print(b)"
   ]
  },
  {
   "cell_type": "code",
   "execution_count": 5,
   "metadata": {},
   "outputs": [
    {
     "output_type": "stream",
     "name": "stdout",
     "text": "[('New York Jets', 100), ('New York Giants', 79)]\n"
    }
   ],
   "source": [
    "# Process,使用字典的方式\n",
    "choices = {\"Atlanta Falcons\", \"New York Jets\", \"New York Giants\",\"Dallas Cowboys\"}\n",
    "a = process.extract(\"new york jets\", choices, limit=2)\n",
    "print(a)"
   ]
  },
  {
   "cell_type": "code",
   "execution_count": 6,
   "metadata": {},
   "outputs": [
    {
     "output_type": "stream",
     "name": "stdout",
     "text": "[('New York Jets', 100, 'b'), ('New York Giants', 79, 'c')]\n"
    }
   ],
   "source": [
    "# Process  使用列表的方式\n",
    "choices = {'a':\"Atlanta Falcons\", 'b':\"New York Jets\", 'c':\"New York Giants\", 'd':\"Dallas Cowboys\"}\n",
    "a = process.extract(\"new york jets\", choices, limit=2)\n",
    "print(a)"
   ]
  },
  {
   "cell_type": "code",
   "execution_count": 7,
   "metadata": {},
   "outputs": [
    {
     "output_type": "stream",
     "name": "stdout",
     "text": "('Dallas Cowboys', 90, 'd')\n"
    }
   ],
   "source": [
    "b = process.extractOne(\"cowboys\", choices)\n",
    "print(b)"
   ]
  },
  {
   "cell_type": "code",
   "execution_count": null,
   "metadata": {},
   "outputs": [],
   "source": []
  },
  {
   "cell_type": "code",
   "execution_count": null,
   "metadata": {},
   "outputs": [],
   "source": []
  },
  {
   "cell_type": "code",
   "execution_count": 8,
   "metadata": {},
   "outputs": [
    {
     "output_type": "stream",
     "name": "stdout",
     "text": "('H', 60)\n('H', 6)\n"
    }
   ],
   "source": [
    "# You can also pass additional parameters to extractOne method to make it use a specific scorer. \n",
    "# A typical use case is to match file paths:\n",
    "songs = 'Hypnotize'\n",
    "\n",
    "a = process.extractOne(\"System of a down - Hypnotize - Heroin\", songs)\n",
    "print(a)\n",
    "\n",
    "b = process.extractOne(\"System of a down - Hypnotize - Heroin\", songs, scorer=fuzz.token_sort_ratio)\n",
    "print(b)"
   ]
  },
  {
   "cell_type": "code",
   "execution_count": null,
   "metadata": {},
   "outputs": [],
   "source": []
  },
  {
   "cell_type": "code",
   "execution_count": null,
   "metadata": {},
   "outputs": [],
   "source": []
  }
 ]
}