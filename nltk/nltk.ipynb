{
 "nbformat": 4,
 "nbformat_minor": 2,
 "metadata": {
  "language_info": {
   "name": "python",
   "codemirror_mode": {
    "name": "ipython",
    "version": 3
   },
   "version": "3.6.9-final"
  },
  "orig_nbformat": 2,
  "file_extension": ".py",
  "mimetype": "text/x-python",
  "name": "python",
  "npconvert_exporter": "python",
  "pygments_lexer": "ipython3",
  "version": 3,
  "kernelspec": {
   "name": "python36964bitpython36conda887ba476e9aa484bad06fe49784f25a0",
   "display_name": "Python 3.6.9 64-bit ('python36': conda)"
  }
 },
 "cells": [
  {
   "cell_type": "code",
   "execution_count": 1,
   "metadata": {},
   "outputs": [],
   "source": [
    "import nltk\n",
    "from nltk.corpus import wordnet as wn"
   ]
  },
  {
   "cell_type": "code",
   "execution_count": 30,
   "metadata": {},
   "outputs": [
    {
     "output_type": "execute_result",
     "data": {
      "text/plain": "'anything that provides mental stimulus for thinking'"
     },
     "metadata": {},
     "execution_count": 30
    }
   ],
   "source": [
    "# 查询一个词所在的所有词集（synsets\n",
    "wn.synsets('food')[2].definition()"
   ]
  },
  {
   "cell_type": "code",
   "execution_count": 9,
   "metadata": {},
   "outputs": [
    {
     "output_type": "execute_result",
     "data": {
      "text/plain": "'fruit with red or yellow or green skin and sweet to tart crisp whitish flesh'"
     },
     "metadata": {},
     "execution_count": 9
    }
   ],
   "source": [
    "# 查询一个同义词集的定义\n",
    "wn.synset('apple.n.01').definition()"
   ]
  },
  {
   "cell_type": "code",
   "execution_count": 10,
   "metadata": {},
   "outputs": [
    {
     "output_type": "execute_result",
     "data": {
      "text/plain": "['the dog barked all night']"
     },
     "metadata": {},
     "execution_count": 10
    }
   ],
   "source": [
    "# 查询词语一个词义的例子\n",
    "wn.synset('dog.n.01').examples()"
   ]
  },
  {
   "cell_type": "code",
   "execution_count": 11,
   "metadata": {},
   "outputs": [
    {
     "output_type": "execute_result",
     "data": {
      "text/plain": "[Synset('dog.n.01'),\n Synset('frump.n.01'),\n Synset('dog.n.03'),\n Synset('cad.n.01'),\n Synset('frank.n.02'),\n Synset('pawl.n.01'),\n Synset('andiron.n.01')]"
     },
     "metadata": {},
     "execution_count": 11
    }
   ],
   "source": [
    "# 查询词语某种词性所在的同义词集合\n",
    "wn.synsets('dog',pos=wn.NOUN)"
   ]
  },
  {
   "cell_type": "code",
   "execution_count": 12,
   "metadata": {},
   "outputs": [
    {
     "output_type": "execute_result",
     "data": {
      "text/plain": "['dog', 'domestic_dog', 'Canis_familiaris']"
     },
     "metadata": {},
     "execution_count": 12
    }
   ],
   "source": [
    "# 查询一个同义词集中的所有词\n",
    "wn.synset('dog.n.01').lemma_names( )"
   ]
  },
  {
   "cell_type": "code",
   "execution_count": 13,
   "metadata": {},
   "outputs": [
    {
     "output_type": "execute_result",
     "data": {
      "text/plain": "[Lemma('dog.n.01.dog'),\n Lemma('dog.n.01.domestic_dog'),\n Lemma('dog.n.01.Canis_familiaris')]"
     },
     "metadata": {},
     "execution_count": 13
    }
   ],
   "source": [
    "# 输出词集和词的配对——词条（lemma）\n",
    "wn.synset('dog.n.01').lemmas( )"
   ]
  },
  {
   "cell_type": "code",
   "execution_count": 14,
   "metadata": {},
   "outputs": [
    {
     "output_type": "execute_result",
     "data": {
      "text/plain": "[Lemma('bad.a.01.bad')]"
     },
     "metadata": {},
     "execution_count": 14
    }
   ],
   "source": [
    "# 利用词条查询反义词\n",
    "good = wn.synset('good.a.01')\n",
    "good.lemmas()[0].antonyms()"
   ]
  },
  {
   "cell_type": "code",
   "execution_count": 15,
   "metadata": {},
   "outputs": [
    {
     "output_type": "execute_result",
     "data": {
      "text/plain": "0.2"
     },
     "metadata": {},
     "execution_count": 15
    }
   ],
   "source": [
    "# 查询两个词之间的语义相似度\n",
    "# path_similarity函数，值从0-1，越大表示相似度越高\n",
    "\n",
    "dog = wn.synset('dog.n.01')\n",
    "cat = wn.synset('cat.n.01')\n",
    "dog.path_similarity(cat)"
   ]
  },
  {
   "cell_type": "code",
   "execution_count": 17,
   "metadata": {},
   "outputs": [],
   "source": [
    "# 值得注意的是，名词和动词被组织成了完整的层次式分类体系，形容词和副词没有被组织成分类体系，所以不能用path_distance。 \n",
    "# 形容词和副词最有用的关系是similar to"
   ]
  },
  {
   "cell_type": "code",
   "execution_count": 18,
   "metadata": {},
   "outputs": [
    {
     "output_type": "execute_result",
     "data": {
      "text/plain": "[Synset('step.v.01')]"
     },
     "metadata": {},
     "execution_count": 18
    }
   ],
   "source": [
    "# 蕴含：entailments()\n",
    "# 以上的分析多是针对名词，对于动词，也存在关系。这里只有列出了一种蕴含的关系： \n",
    "# entailments()方法，同样由一个词集调用：\n",
    "\n",
    "wn.synset('walk.v.01').entailments() #走路蕴含着抬脚"
   ]
  },
  {
   "cell_type": "code",
   "execution_count": 19,
   "metadata": {},
   "outputs": [
    {
     "output_type": "execute_result",
     "data": {
      "text/plain": "[Lemma('demand.n.02.demand')]"
     },
     "metadata": {},
     "execution_count": 19
    }
   ],
   "source": [
    "# 反义词：antonyms()\n",
    "# 由一个词条调用：wn.lemma(‘supply.n.02.supply’)\n",
    "\n",
    "wn.lemma('supply.n.02.supply').antonyms()"
   ]
  },
  {
   "cell_type": "code",
   "execution_count": null,
   "metadata": {},
   "outputs": [],
   "source": []
  },
  {
   "cell_type": "code",
   "execution_count": null,
   "metadata": {},
   "outputs": [],
   "source": []
  },
  {
   "cell_type": "code",
   "execution_count": null,
   "metadata": {},
   "outputs": [],
   "source": []
  },
  {
   "cell_type": "code",
   "execution_count": null,
   "metadata": {},
   "outputs": [],
   "source": []
  },
  {
   "cell_type": "code",
   "execution_count": null,
   "metadata": {},
   "outputs": [],
   "source": []
  },
  {
   "cell_type": "code",
   "execution_count": null,
   "metadata": {},
   "outputs": [],
   "source": []
  },
  {
   "cell_type": "code",
   "execution_count": null,
   "metadata": {},
   "outputs": [],
   "source": []
  }
 ]
}