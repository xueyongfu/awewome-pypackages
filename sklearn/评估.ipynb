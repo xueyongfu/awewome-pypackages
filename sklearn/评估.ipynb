{
 "metadata": {
  "language_info": {
   "codemirror_mode": {
    "name": "ipython",
    "version": 3
   },
   "file_extension": ".py",
   "mimetype": "text/x-python",
   "name": "python",
   "nbconvert_exporter": "python",
   "pygments_lexer": "ipython3",
   "version": "3.6.10-final"
  },
  "orig_nbformat": 2,
  "kernelspec": {
   "name": "python_defaultSpec_1597038117810",
   "display_name": "Python 3.6.10 64-bit ('py36_torch1.2': conda)"
  }
 },
 "nbformat": 4,
 "nbformat_minor": 2,
 "cells": [
  {
   "cell_type": "code",
   "execution_count": 1,
   "metadata": {},
   "outputs": [],
   "source": [
    "from sklearn.metrics import confusion_matrix"
   ]
  },
  {
   "cell_type": "code",
   "execution_count": 2,
   "metadata": {},
   "outputs": [
    {
     "output_type": "execute_result",
     "data": {
      "text/plain": "array([[2, 0, 0],\n       [0, 0, 1],\n       [0, 0, 1]])"
     },
     "metadata": {},
     "execution_count": 2
    }
   ],
   "source": [
    "y_true = ['a','b','c','a']\n",
    "y_pred = ['a','c','c','a']\n",
    "labels = ['a','b','c']\n",
    "\n",
    "confusion_matrix(y_true, y_pred)\n",
    "\n",
    "# 行表示真是标签,列表示预测标签\n"
   ]
  },
  {
   "cell_type": "code",
   "execution_count": 3,
   "metadata": {
    "tags": []
   },
   "outputs": [
    {
     "output_type": "stream",
     "name": "stdout",
     "text": "precision    recall  f1-score   support\n\n           a       0.00      0.00      0.00       2.0\n           b       0.00      0.00      0.00       1.0\n           c       0.00      0.00      0.00       1.0\n           d       0.00      0.00      0.00       0.0\n           e       0.00      0.00      0.00       0.0\n           f       0.00      0.00      0.00       0.0\n           g       0.00      0.00      0.00       0.0\n\n    accuracy                           0.00       4.0\n   macro avg       0.00      0.00      0.00       4.0\nweighted avg       0.00      0.00      0.00       4.0\n\n"
    }
   ],
   "source": [
    "# 分类报告\n",
    "from sklearn.metrics import classification_report  \n",
    "y_true = ['a','b','c','a']\n",
    "y_pred = ['d','e','f','g']\n",
    "print(classification_report(y_true,y_pred))"
   ]
  },
  {
   "cell_type": "code",
   "execution_count": null,
   "metadata": {},
   "outputs": [],
   "source": []
  },
  {
   "cell_type": "code",
   "execution_count": null,
   "metadata": {},
   "outputs": [],
   "source": []
  },
  {
   "cell_type": "code",
   "execution_count": null,
   "metadata": {},
   "outputs": [],
   "source": []
  },
  {
   "cell_type": "code",
   "execution_count": null,
   "metadata": {},
   "outputs": [],
   "source": []
  },
  {
   "cell_type": "code",
   "execution_count": null,
   "metadata": {},
   "outputs": [],
   "source": []
  }
 ]
}