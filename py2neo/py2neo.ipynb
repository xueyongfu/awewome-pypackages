{
 "nbformat": 4,
 "nbformat_minor": 2,
 "metadata": {
  "language_info": {
   "name": "python",
   "codemirror_mode": {
    "name": "ipython",
    "version": 3
   },
   "version": "3.6.9"
  },
  "orig_nbformat": 2,
  "file_extension": ".py",
  "mimetype": "text/x-python",
  "name": "python",
  "npconvert_exporter": "python",
  "pygments_lexer": "ipython3",
  "version": 3
 },
 "cells": [
  {
   "cell_type": "code",
   "execution_count": 1,
   "metadata": {},
   "outputs": [],
   "source": [
    "from py2neo import Graph, Node, Relationship\n",
    "\n",
    "graph = Graph(\"http://localhost:7474\", username=\"neo4j\", password=\"541807\")"
   ]
  },
  {
   "cell_type": "code",
   "execution_count": 6,
   "metadata": {},
   "outputs": [],
   "source": [
    "#创建节点和关系,当创建关系时,如何不存在对应的节点,会自动创建\n",
    "a = Node(\"Person\", name=\"Alice\")\n",
    "b = Node(\"Person\", name=\"Bob\")\n",
    "ab = Relationship(a, \"KNOWS\", b)\n",
    "\n",
    "graph.create(ab)"
   ]
  },
  {
   "cell_type": "markdown",
   "execution_count": null,
   "metadata": {},
   "outputs": [],
   "source": [
    "## 节点  "
   ]
  },
  {
   "cell_type": "code",
   "execution_count": null,
   "metadata": {},
   "outputs": [],
   "source": [
    "#在创建好node后，我们可以有很多操作\n",
    "node = Node(\"地点\", name=\"上海\", attri='直辖市', belong='中国', other='其他')\n",
    "\n",
    "# name属性是节点名字,没有name属性便会没有节点名字,系统会随机给一个id\n",
    "# node = Node(\"地点\", nam=\"上海\", attri='直辖市', belong='中国', other='其他')\n",
    "# graph.create(node)\n",
    "\n",
    "#获取key对应的property\n",
    "x=node['attri'] \n",
    "print(x)\n",
    "\n",
    "#设置key键对应的value，如果value是None就移除这个property\n",
    "node['belong'] = '世界'\n",
    "\n",
    "#也可以专门删除某个property\n",
    "del node['other']\n",
    "\n",
    "#返回node里面property的个数\n",
    "print(len(node))\n",
    "\n",
    "#返回所有和这个节点有关的label\n",
    "labels=node.labels\n",
    "print(labels)\n",
    "\n",
    "#删除某个label\n",
    "# node.labels.remove(labelname)\n",
    "\n",
    "#将node的所有property以dictionary的形式返回\n",
    "dict(node)"
   ]
  },
  {
   "cell_type": "markdown",
   "execution_count": null,
   "metadata": {},
   "outputs": [],
   "source": [
    "## 关系 "
   ]
  },
  {
   "cell_type": "code",
   "execution_count": null,
   "metadata": {},
   "outputs": [],
   "source": [
    "#对于关系的操作\n",
    "\n",
    "#创建Relationship\n",
    "# Relationship`(*start_node*, *type*, *end_node*, ***properties*)\n",
    "\n",
    "ab = Relationship(a, \"KNOWS\", b, attri='类别')\n",
    "\n",
    "#返回Relationship的property\n",
    "print(ab['attri'])\n",
    "\n",
    "#删除某个property\n",
    "del ab['attri']\n",
    "\n",
    "#将relationship的所有property以dictionary的形式返回\n",
    "dict(ab)\n"
   ]
  },
  {
   "cell_type": "markdown",
   "execution_count": null,
   "metadata": {},
   "outputs": [],
   "source": [
    "## 子图"
   ]
  },
  {
   "cell_type": "code",
   "execution_count": 2,
   "metadata": {},
   "outputs": [
    {
     "name": "stdout",
     "output_type": "stream",
     "text": "({(alice:Person {name:\"Alice\"}), (bob:Person {name:\"Bob\"})}, {(alice)-[:KNOWS]->(bob)})\nfrozenset({(alice:Person {name:\"Alice\"}), (bob:Person {name:\"Bob\"})})\nfrozenset({(alice)-[:KNOWS]->(bob)})\n"
    }
   ],
   "source": [
    "\n",
    "# 子图是节点和关系不可变的集合,我们可以通过set operator来结合，参数可以是独立的node或relationships\n",
    "# 节点和关系都可以看做一个子图\n",
    "\n",
    "# subgraph | other | ...      结合这些subgraphs\n",
    "# subgraph & other & ...   相交这些subgraphs\n",
    "# subgraph - other - ...     不同关系\n",
    "# #比如我们前面创建的ab关系\n",
    "# s = ab | ac\n",
    "\n",
    "from py2neo import Node, Relationship\n",
    "\n",
    "a = Node('Person', name='Alice')\n",
    "b = Node('Person', name='Bob')\n",
    "r = Relationship(a, 'KNOWS', b)\n",
    "s = a | b | r\n",
    "\n",
    "# 通过 nodes() 和 relationships() 方法获取所有的 Node 和 Relationship\n",
    "print(s.nodes())\n",
    "print(s.relationships())"
   ]
  },
  {
   "cell_type": "code",
   "execution_count": null,
   "metadata": {},
   "outputs": [],
   "source": [
    "# merge()函数\n",
    "graph.merge(subgraph=subgraph)\n",
    "\n",
    "#注意: 图数据库存在同名节点,但是有不同的属性,那么使用merge()会新创建一个同名节点,除非名字属性均相同."
   ]
  },
  {
   "cell_type": "markdown",
   "execution_count": null,
   "metadata": {},
   "outputs": [],
   "source": [
    "## 查询 Query"
   ]
  },
  {
   "cell_type": "markdown",
   "execution_count": null,
   "metadata": {},
   "outputs": [],
   "source": [
    "#### run方式 "
   ]
  },
  {
   "cell_type": "code",
   "execution_count": 17,
   "metadata": {},
   "outputs": [
    {
     "data": {
      "text/plain": "[('a': (c3d6bd5:Person {name:\"Alice\"})),\n ('a': (abea999:Person {name:\"Alice\"})),\n ('a': (adbee02:Person {name:\"Alice\"})),\n ('a': (alice:Person {name:\"Alice\"}))]"
     },
     "execution_count": 17,
     "metadata": {},
     "output_type": "execute_result"
    }
   ],
   "source": [
    " \n",
    "list(graph.run(\"MATCH (a:Person {name:'Alice'}) RETURN a\"))"
   ]
  },
  {
   "cell_type": "markdown",
   "execution_count": null,
   "metadata": {},
   "outputs": [],
   "source": [
    "#### find和match  "
   ]
  },
  {
   "cell_type": "code",
   "execution_count": null,
   "metadata": {},
   "outputs": [],
   "source": [
    "# #查询节点\n",
    "# find()\n",
    "# find_one()\n",
    "\n",
    "\n",
    "# #查询关系\n",
    "# match()\n",
    "# match_one()"
   ]
  },
  {
   "cell_type": "markdown",
   "execution_count": null,
   "metadata": {},
   "outputs": [],
   "source": [
    "#### NodeSelector \n",
    " "
   ]
  },
  {
   "cell_type": "code",
   "execution_count": 21,
   "metadata": {},
   "outputs": [
    {
     "data": {
      "text/plain": "[(c3d6bd5:Person {name:\"Alice\"}),\n (abea999:Person {name:\"Alice\"}),\n (adbee02:Person {name:\"Alice\"}),\n (alice:Person {name:\"Alice\"})]"
     },
     "execution_count": 21,
     "metadata": {},
     "output_type": "execute_result"
    }
   ],
   "source": [
    "# NodeMatcher是为更好的查询节点，支持更多的查询条件，比graph更友好\n",
    "from py2neo import NodeSelector\n",
    "selector = NodeSelector(graph)\n",
    "list(selector.select(\"Person\", name=\"Alice\"))\n",
    "\n",
    "# where()函数中可以添加多种条件\n",
    "# list(selector.select(\"Person\").where(\"_.name =~ 'J.*'\",  \"1960 <= _.born < 1970\"))  #_表示节点\n",
    "\n",
    "# order_by()进行排序\n",
    "# persons = selector.select('Person').order_by('_.age')  #按照年龄进行排序\n",
    "# print(list(persons))\n",
    "\n",
    "# selector的属性总结\n",
    "# first()返回单个节点\n",
    "# limit(amount)返回底部节点的限值条数\n",
    "# skip(amount)返回顶部节点的限值条数\n",
    "# order_by(*fields)排序\n",
    "# where(*conditions, **properties)筛选条件"
   ]
  },
  {
   "cell_type": "markdown",
   "execution_count": null,
   "metadata": {},
   "outputs": [],
   "source": [
    "## Walkable Types"
   ]
  },
  {
   "cell_type": "code",
   "execution_count": 3,
   "metadata": {},
   "outputs": [
    {
     "name": "stdout",
     "output_type": "stream",
     "text": "(alice)-[:KNOWS]->(bob)-[:LIKES]->(mike)<-[:KNOWS]-(alice)\n"
    }
   ],
   "source": [
    "# Walkable Types是一个拥有遍历功能的子图。最简单的构造就是把一些子图合并起来\n",
    "\n",
    "from py2neo import Node, Relationship\n",
    "\n",
    "a = Node('Person', name='Alice')\n",
    "b = Node('Person', name='Bob')\n",
    "c = Node('Person', name='Mike')\n",
    "ab = Relationship(a, \"KNOWS\", b)\n",
    "ac = Relationship(a, \"KNOWS\", c)\n",
    "w = ab + Relationship(b, \"LIKES\", c) + ac\n",
    "print(w)"
   ]
  },
  {
   "cell_type": "code",
   "execution_count": 4,
   "metadata": {},
   "outputs": [
    {
     "name": "stdout",
     "output_type": "stream",
     "text": "(alice:Person {name:\"Alice\"})\n(alice)-[:KNOWS]->(bob)\n(bob:Person {name:\"Bob\"})\n(bob)-[:LIKES]->(mike)\n(mike:Person {name:\"Mike\"})\n(alice)-[:KNOWS]->(mike)\n(alice:Person {name:\"Alice\"})\n"
    }
   ],
   "source": [
    "# 我们可以使用walk方法实现遍历\n",
    "from py2neo import walk\n",
    "\n",
    "for item in walk(w):\n",
    "    print(item)"
   ]
  },
  {
   "cell_type": "code",
   "execution_count": 5,
   "metadata": {},
   "outputs": [
    {
     "name": "stdout",
     "output_type": "stream",
     "text": "(alice:Person {name:\"Alice\"})\n(alice:Person {name:\"Alice\"})\n((alice:Person {name:\"Alice\"}), (bob:Person {name:\"Bob\"}), (mike:Person {name:\"Mike\"}), (alice:Person {name:\"Alice\"}))\n((alice)-[:KNOWS]->(bob), (bob)-[:LIKES]->(mike), (alice)-[:KNOWS]->(mike))\n"
    }
   ],
   "source": [
    "# 利用 start_node()、end_node()、nodes()、relationships() 方法来获取起始 Node、终止 Node、所有 Node 和 Relationship\n",
    "print(w.start_node())\n",
    "print(w.end_node())\n",
    "print(w.nodes())\n",
    "print(w.relationships())"
   ]
  },
  {
   "cell_type": "markdown",
   "execution_count": null,
   "metadata": {},
   "outputs": [],
   "source": [
    "## 更新:push,update  "
   ]
  },
  {
   "cell_type": "code",
   "execution_count": 24,
   "metadata": {},
   "outputs": [
    {
     "name": "stdout",
     "output_type": "stream",
     "text": "(c3d6bd5:Person {age:18,name:\"Alice\"})\n/home/xyf/anaconda3/envs/py36/lib/python3.6/site-packages/ipykernel_launcher.py:2: DeprecationWarning: Graph.find_one is deprecated, use NodeSelector instead\n  \n/home/xyf/anaconda3/envs/py36/lib/python3.6/site-packages/ipykernel_launcher.py:5: DeprecationWarning: Graph.find_one is deprecated, use NodeSelector instead\n  \"\"\"\n"
    }
   ],
   "source": [
    "# push用来更新图数据库节点\n",
    "node = graph.find_one(label='Person')\n",
    "node['age'] = 18\n",
    "graph.push(node)\n",
    "print(graph.find_one(label='Person'))"
   ]
  },
  {
   "cell_type": "code",
   "execution_count": null,
   "metadata": {},
   "outputs": [],
   "source": [
    "#同样可以更新节点属性\n",
    "b  = Node('B',name='b')\n",
    "graph.create(a)\n",
    "\n",
    "a['attr'] = 'bbb'\n",
    "graph.push(a)"
   ]
  },
  {
   "cell_type": "code",
   "execution_count": null,
   "metadata": {},
   "outputs": [],
   "source": [
    "# update()函数并不能更新图数据库节点,可以用来批量更新节点属性\n",
    "a = Node()\n",
    "data = {'name': 'Amy','age': 21}\n",
    "a.update(data)"
   ]
  },
  {
   "cell_type": "markdown",
   "execution_count": null,
   "metadata": {},
   "outputs": [],
   "source": [
    "## 删除  "
   ]
  },
  {
   "cell_type": "code",
   "execution_count": 37,
   "metadata": {},
   "outputs": [
    {
     "name": "stderr",
     "output_type": "stream",
     "text": "/home/xyf/anaconda3/envs/py36/lib/python3.6/site-packages/ipykernel_launcher.py:9: DeprecationWarning: Graph.find_one is deprecated, use NodeSelector instead\n  if __name__ == '__main__':\n"
    }
   ],
   "source": [
    "# delete(subgraph) 删除节点、关系或子图 , 删除关系时,关系的节点也会删除\n",
    "# delete_all() 删除数据库所有的节点和关系\n",
    "\n",
    "a = Node(\"Person\", name=\"Alice\")\n",
    "b = Node(\"Person\", name=\"Bob\")\n",
    "ab = Relationship(a, \"KNOWS\", b)\n",
    "graph.create(ab)\n",
    "\n",
    "node = graph.find_one(label='Person')\n",
    "relationship = graph.match_one(node,rel_type='KNOWS')\n",
    "graph.delete(relationship)"
   ]
  },
  {
   "cell_type": "code",
   "execution_count": null,
   "metadata": {},
   "outputs": [],
   "source": []
  },
  {
   "cell_type": "code",
   "execution_count": null,
   "metadata": {},
   "outputs": [],
   "source": []
  },
  {
   "cell_type": "code",
   "execution_count": null,
   "metadata": {},
   "outputs": [],
   "source": []
  },
  {
   "cell_type": "code",
   "execution_count": null,
   "metadata": {},
   "outputs": [],
   "source": []
  },
  {
   "cell_type": "code",
   "execution_count": null,
   "metadata": {},
   "outputs": [],
   "source": []
  },
  {
   "cell_type": "code",
   "execution_count": null,
   "metadata": {},
   "outputs": [],
   "source": []
  },
  {
   "cell_type": "code",
   "execution_count": null,
   "metadata": {},
   "outputs": [],
   "source": []
  },
  {
   "cell_type": "code",
   "execution_count": null,
   "metadata": {},
   "outputs": [],
   "source": []
  }
 ]
}